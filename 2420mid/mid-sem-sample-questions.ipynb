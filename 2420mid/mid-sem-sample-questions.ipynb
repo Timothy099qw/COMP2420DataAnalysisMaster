{
 "cells": [
  {
   "cell_type": "markdown",
   "metadata": {},
   "source": [
    "<img src=\"anu-logo.png\" height=\"30\">\n",
    "\n",
    "<h1 align='center'> COMP2420/COMP6420 - Introduction to Data Management, <br/>Analysis and Security</h1>\n",
    "\n",
    "<h2 align='center'>Mid-Semester Exam - Sample Questions</h2>\n",
    "\n",
    "*****\n"
   ]
  },
  {
   "cell_type": "code",
   "execution_count": 3,
   "metadata": {},
   "outputs": [],
   "source": [
    "# IMPORTING FREQUENTLY USED PYTHON MODULES\n",
    "import numpy as np\n",
    "import pandas as pd\n",
    "import seaborn as sns\n",
    "import matplotlib.pyplot as plt\n",
    "import os\n",
    "plt.style.use('seaborn-notebook')\n",
    "%matplotlib inline\n",
    "\n",
    "# JUST TO MAKE SURE SOME WARNINGS ARE IGNORED \n",
    "import warnings\n",
    "warnings.filterwarnings(\"ignore\")\n",
    "\n",
    "# IMPORT ANY PACKAGES YOU WOULD LIKE TO USE BELOW\n",
    "\n",
    "\n"
   ]
  },
  {
   "cell_type": "markdown",
   "metadata": {},
   "source": [
    "## Section A - Data Analysis\n",
    "\n",
    "### Question 1: _[30 marks]_ \n",
    "\n",
    "You are given the following dataset from the **Seaborn** library in Anaconda.\n",
    "\n",
    "1) **Do some exploratory data analysis on this dataset and find out _three_ facts that jump out from this data.**\n",
    "<span style= 'float: right;'><b>[5 marks]</b></span>"
   ]
  },
  {
   "cell_type": "code",
   "execution_count": 84,
   "metadata": {},
   "outputs": [
    {
     "data": {
      "text/html": [
       "<div>\n",
       "<style scoped>\n",
       "    .dataframe tbody tr th:only-of-type {\n",
       "        vertical-align: middle;\n",
       "    }\n",
       "\n",
       "    .dataframe tbody tr th {\n",
       "        vertical-align: top;\n",
       "    }\n",
       "\n",
       "    .dataframe thead th {\n",
       "        text-align: right;\n",
       "    }\n",
       "</style>\n",
       "<table border=\"1\" class=\"dataframe\">\n",
       "  <thead>\n",
       "    <tr style=\"text-align: right;\">\n",
       "      <th></th>\n",
       "      <th>carat</th>\n",
       "      <th>cut</th>\n",
       "      <th>color</th>\n",
       "      <th>clarity</th>\n",
       "      <th>depth</th>\n",
       "      <th>table</th>\n",
       "      <th>price</th>\n",
       "      <th>x</th>\n",
       "      <th>y</th>\n",
       "      <th>z</th>\n",
       "    </tr>\n",
       "  </thead>\n",
       "  <tbody>\n",
       "    <tr>\n",
       "      <th>0</th>\n",
       "      <td>0.23</td>\n",
       "      <td>Ideal</td>\n",
       "      <td>E</td>\n",
       "      <td>SI2</td>\n",
       "      <td>61.5</td>\n",
       "      <td>55.0</td>\n",
       "      <td>326</td>\n",
       "      <td>3.95</td>\n",
       "      <td>3.98</td>\n",
       "      <td>2.43</td>\n",
       "    </tr>\n",
       "    <tr>\n",
       "      <th>1</th>\n",
       "      <td>0.21</td>\n",
       "      <td>Premium</td>\n",
       "      <td>E</td>\n",
       "      <td>SI1</td>\n",
       "      <td>59.8</td>\n",
       "      <td>61.0</td>\n",
       "      <td>326</td>\n",
       "      <td>3.89</td>\n",
       "      <td>3.84</td>\n",
       "      <td>2.31</td>\n",
       "    </tr>\n",
       "    <tr>\n",
       "      <th>2</th>\n",
       "      <td>0.23</td>\n",
       "      <td>Good</td>\n",
       "      <td>E</td>\n",
       "      <td>VS1</td>\n",
       "      <td>56.9</td>\n",
       "      <td>65.0</td>\n",
       "      <td>327</td>\n",
       "      <td>4.05</td>\n",
       "      <td>4.07</td>\n",
       "      <td>2.31</td>\n",
       "    </tr>\n",
       "    <tr>\n",
       "      <th>3</th>\n",
       "      <td>0.29</td>\n",
       "      <td>Premium</td>\n",
       "      <td>I</td>\n",
       "      <td>VS2</td>\n",
       "      <td>62.4</td>\n",
       "      <td>58.0</td>\n",
       "      <td>334</td>\n",
       "      <td>4.20</td>\n",
       "      <td>4.23</td>\n",
       "      <td>2.63</td>\n",
       "    </tr>\n",
       "    <tr>\n",
       "      <th>4</th>\n",
       "      <td>0.31</td>\n",
       "      <td>Good</td>\n",
       "      <td>J</td>\n",
       "      <td>SI2</td>\n",
       "      <td>63.3</td>\n",
       "      <td>58.0</td>\n",
       "      <td>335</td>\n",
       "      <td>4.34</td>\n",
       "      <td>4.35</td>\n",
       "      <td>2.75</td>\n",
       "    </tr>\n",
       "  </tbody>\n",
       "</table>\n",
       "</div>"
      ],
      "text/plain": [
       "   carat      cut color clarity  depth  table  price     x     y     z\n",
       "0   0.23    Ideal     E     SI2   61.5   55.0    326  3.95  3.98  2.43\n",
       "1   0.21  Premium     E     SI1   59.8   61.0    326  3.89  3.84  2.31\n",
       "2   0.23     Good     E     VS1   56.9   65.0    327  4.05  4.07  2.31\n",
       "3   0.29  Premium     I     VS2   62.4   58.0    334  4.20  4.23  2.63\n",
       "4   0.31     Good     J     SI2   63.3   58.0    335  4.34  4.35  2.75"
      ]
     },
     "execution_count": 84,
     "metadata": {},
     "output_type": "execute_result"
    }
   ],
   "source": [
    "df_diamonds = pd.read_csv('diamonds.csv')\n",
    "df_diamonds.head()\n",
    "\n",
    "# DO SOME EXPLORATORY DATA ANALYSIS ON THE DATASET\n",
    "# AND STATE 3 FACTS THE JUMP OUT FROM THE BASIC STAT \n",
    "# ANALYSIS OF THE DATASET.\n",
    "\n",
    "\n"
   ]
  },
  {
   "cell_type": "markdown",
   "metadata": {},
   "source": [
    "2) **Find out the max weight (in carat) and most valueable stone(s).**\n",
    "<span style= 'float: right;'><b>[2 marks]</b></span>"
   ]
  },
  {
   "cell_type": "code",
   "execution_count": 94,
   "metadata": {},
   "outputs": [
    {
     "data": {
      "text/html": [
       "<div>\n",
       "<style scoped>\n",
       "    .dataframe tbody tr th:only-of-type {\n",
       "        vertical-align: middle;\n",
       "    }\n",
       "\n",
       "    .dataframe tbody tr th {\n",
       "        vertical-align: top;\n",
       "    }\n",
       "\n",
       "    .dataframe thead th {\n",
       "        text-align: right;\n",
       "    }\n",
       "</style>\n",
       "<table border=\"1\" class=\"dataframe\">\n",
       "  <thead>\n",
       "    <tr style=\"text-align: right;\">\n",
       "      <th></th>\n",
       "      <th>carat</th>\n",
       "      <th>cut</th>\n",
       "      <th>color</th>\n",
       "      <th>clarity</th>\n",
       "      <th>depth</th>\n",
       "      <th>table</th>\n",
       "      <th>price</th>\n",
       "      <th>x</th>\n",
       "      <th>y</th>\n",
       "      <th>z</th>\n",
       "      <th>averageprice</th>\n",
       "    </tr>\n",
       "  </thead>\n",
       "  <tbody>\n",
       "    <tr>\n",
       "      <th>27749</th>\n",
       "      <td>2.29</td>\n",
       "      <td>Premium</td>\n",
       "      <td>I</td>\n",
       "      <td>VS2</td>\n",
       "      <td>60.8</td>\n",
       "      <td>60.0</td>\n",
       "      <td>18823</td>\n",
       "      <td>8.5</td>\n",
       "      <td>8.47</td>\n",
       "      <td>5.16</td>\n",
       "      <td>8219.650655</td>\n",
       "    </tr>\n",
       "  </tbody>\n",
       "</table>\n",
       "</div>"
      ],
      "text/plain": [
       "       carat      cut color clarity  depth  table  price    x     y     z  \\\n",
       "27749   2.29  Premium     I     VS2   60.8   60.0  18823  8.5  8.47  5.16   \n",
       "\n",
       "       averageprice  \n",
       "27749   8219.650655  "
      ]
     },
     "execution_count": 94,
     "metadata": {},
     "output_type": "execute_result"
    }
   ],
   "source": [
    "# YOUR CODE HERE\n",
    "weight = df_diamonds[df_diamonds['carat']==df_diamonds['carat'].max()]\n",
    "p = df_diamonds[df_diamonds['price']==df_diamonds['price'].max()]\n",
    "weight\n",
    "p\n"
   ]
  },
  {
   "cell_type": "markdown",
   "metadata": {},
   "source": [
    "3) **Are stones of max weight also the dearest stones? Justify your answer with appropriate data or visualisation.**\n",
    "\n",
    "<span style= 'float: right;'><b>[3 marks]</b></span>"
   ]
  },
  {
   "cell_type": "code",
   "execution_count": null,
   "metadata": {},
   "outputs": [],
   "source": [
    "# YOUR CODE HERE\n",
    "\n",
    "\n"
   ]
  },
  {
   "cell_type": "markdown",
   "metadata": {},
   "source": [
    "3) **Find out how the average price per carat for different cut (quality) groups. Do cut quality group names correlate with the average price? Plot the results (using bar plot or piechart).**\n",
    "\n",
    "<span style= 'float: right;'><b>[20 marks]</b></span>"
   ]
  },
  {
   "cell_type": "code",
   "execution_count": 90,
   "metadata": {},
   "outputs": [
    {
     "data": {
      "text/plain": [
       "<matplotlib.axes._subplots.AxesSubplot at 0x1cd2675f898>"
      ]
     },
     "execution_count": 90,
     "metadata": {},
     "output_type": "execute_result"
    },
    {
     "data": {
      "image/png": "[encoded data removed]",
      "text/plain": [
       "<Figure size 720x360 with 1 Axes>"
      ]
     },
     "metadata": {
      "needs_background": "light"
     },
     "output_type": "display_data"
    }
   ],
   "source": [
    "# YOUR CODE HERE\n",
    "df_diamonds.eval('averageprice = price/carat' , inplace=True)\n",
    "fig, ax = plt.subplots(figsize=(10,5))\n",
    "new = pd.DataFrame(df_diamonds[['averageprice','cut']])\n",
    "new.groupby(['cut']).mean().unstack().plot.bar(ax=ax)\n"
   ]
  },
  {
   "cell_type": "markdown",
   "metadata": {},
   "source": [
    "### Question 2:  _[15 marks]_ \n",
    "\n",
    "Researcher A claims to have quantified the drink consumption habits of **Coffee Grounds'** customers. He claims\n",
    "that the choice of each customer is a random sample from a distribution over five outcomes: `Smoothie`, `Coffee`,\n",
    "`Milk Tea`, `Classic Tea`, and `Sparkling Juice`, with probability of 0.2, 0.15, 0.2, 0.4, and 0.05, respectively.\n",
    "\n",
    "\n",
    "1. **Another researcher B rejects one part of the A's claim: he can’t believe customers choose Classic Tea with a 40% probability (he doesn’t care at all about the probabilities of the other choices). State null and alternative hypotheses that he should use to investigate this issue.**\n",
    "<span style= 'float: right;'><b>[5 marks]</b></span>"
   ]
  },
  {
   "cell_type": "markdown",
   "metadata": {},
   "source": [
    "<span style=\"color:blue\">\n",
    " \n",
    "#### YOUR ANSWER HERE\n",
    "Null hypotheses: customers choose Classic Tea with a 40% probability.\n",
    "    \n",
    "Alternative hypotheses: customers choose Classic Tea with greater or less than 40% probability.\n",
    "</span>"
   ]
  },
  {
   "cell_type": "markdown",
   "metadata": {},
   "source": [
    "2. **Now B needs a sample of customer choices. Each beverage cup contains a mark describing its original contents. Should he look in the garbage can outside of Coffee Grounds at the end of the day and count the proportion of cups that contained Classic Tea? Why or why not?**\n",
    "<span style= 'float: right;'><b>[5 marks]</b></span>"
   ]
  },
  {
   "cell_type": "markdown",
   "metadata": {},
   "source": [
    "<span style=\"color:blue\">\n",
    " \n",
    "#### YOUR ANSWER HERE\n",
    "No, Beacuse this task is focus on the quantified the drink consumption habits of Coffee Grounds' customers. So it is uncessary to look in the garbage can outside of Coffee Grounds.\n",
    "</span>"
   ]
  },
  {
   "cell_type": "markdown",
   "metadata": {},
   "source": [
    "3. **Alternatively, Coffee Grounds offers to give B a uniform random sample of 10 orders from its database of all past orders. He replies, \"That’s not enough, I need a large random sample.\" They ask why. How should he respond to justify his request of a large random sample?**\n",
    "<span style= 'float: right;'><b>[5 marks]</b></span>"
   ]
  },
  {
   "cell_type": "markdown",
   "metadata": {},
   "source": [
    "<span style=\"color:blue\">\n",
    " \n",
    "#### YOUR ANSWER HERE\n",
    "10 sample is too less to represent the whole data.\n",
    "</span>"
   ]
  },
  {
   "cell_type": "markdown",
   "metadata": {},
   "source": [
    "## Section B - Data Visualization \n",
    "\n",
    "### Question 3: _[40 marks]_\n",
    "\n",
    "1. **In the world of Pokémon, there are many different pokémon, each holding a unique power inside. Ash, the pokémon trainer has collected a large dataset of Pokémon throughout his many adventures, and wants to know more about the composition of different generations of pokémon. Complete the function `plot_pokemon_composition()` to help Ash visualise the composition.**\n",
    "<span style= 'float: right;'><b>[10 marks]</b></span>"
   ]
  },
  {
   "cell_type": "code",
   "execution_count": 95,
   "metadata": {},
   "outputs": [],
   "source": [
    "# TODO: COMPLETE THE BELOW FUNCTION\n",
    "def plot_pokemon_composition(df_pokemon):\n",
    "    num1 = df_pokemon[df_pokemon['Generation']==1]['Name'].size\n",
    "    num2 = df_pokemon[df_pokemon['Generation']==2]['Name'].size\n",
    "    num3 = df_pokemon[df_pokemon['Generation']==3]['Name'].size\n",
    "    num4 = df_pokemon[df_pokemon['Generation']==4]['Name'].size\n",
    "    num5 = df_pokemon[df_pokemon['Generation']==5]['Name'].size\n",
    "    num6 = df_pokemon[df_pokemon['Generation']==6]['Name'].size\n",
    "    sum = num1+num2+num3+num4+num5+num6\n",
    "    rate = [num1/sum,num2/sum,num3/sum,num4/sum,num5/sum,num6/sum]\n",
    "    plt.pie(rate, labels=[\"G1\",\"G2\",\"G3\",\"G4\",\"G5\",\"G6\"])\n",
    "    plt.title(\"generation distribution\")\n",
    "    plt.show()\n",
    "    \n",
    "    return False"
   ]
  },
  {
   "cell_type": "code",
   "execution_count": 96,
   "metadata": {},
   "outputs": [
    {
     "data": {
      "image/png": "[encoded data removed]",
      "text/plain": [
       "<Figure size 432x288 with 1 Axes>"
      ]
     },
     "metadata": {},
     "output_type": "display_data"
    },
    {
     "data": {
      "text/plain": [
       "False"
      ]
     },
     "execution_count": 96,
     "metadata": {},
     "output_type": "execute_result"
    }
   ],
   "source": [
    "# RUN THIS BLOCK TO TEST YOUR CODE\n",
    "df_pokemon = pd.read_csv('pokemon.csv')\n",
    "plot_pokemon_composition(df_pokemon)"
   ]
  },
  {
   "cell_type": "markdown",
   "metadata": {},
   "source": [
    "2. **Briefly justify why the graph you chose in 1 is suitable for the intended purpose.**\n",
    "\n",
    "<span style= 'float: right;'><b>[5 marks]</b></span>"
   ]
  },
  {
   "cell_type": "markdown",
   "metadata": {},
   "source": [
    "<span style=\"color:blue\">\n",
    " \n",
    "#### YOUR ANSWER HERE\n",
    "\n",
    "</span>"
   ]
  },
  {
   "cell_type": "markdown",
   "metadata": {},
   "source": [
    "2. **Professor Oak, a specialist in the study of Pokémon, wants to discover the relationship between Attack vs Defense to HP of Pokémon. He asks you to create a graph depicting this relationship, with an additional requirement. Make the data points for Legendary Pokémon (extremely powerful, one-of-a-kind Pokémon) stand out from the others. Complete the function `plot_attack_defense_hp()` to create this graph.**\n",
    "<span style= 'float: right;'><b>[15 marks]</b></span>"
   ]
  },
  {
   "cell_type": "code",
   "execution_count": 26,
   "metadata": {},
   "outputs": [],
   "source": [
    "# TODO: COMPLETE THE BELOW FUNCTION\n",
    "def plot_attack_defense(df_pokemon):\n",
    "    normal = df_pokemon[ df_pokemon['Legendary']==False]\n",
    "    led = df_pokemon[ df_pokemon['Legendary']==True]\n",
    "    fig = plt.figure(figsize=(5,5))\n",
    "    plt.scatter(x = normal['Attack'], y= normal['Defense'] ,color='red')\n",
    "    plt.scatter(x = led['Attack'], y= led['Defense'] ,color='blue')\n",
    "    plt.title('123')\n",
    "    plt.xlabel('123')\n",
    "    return True"
   ]
  },
  {
   "cell_type": "code",
   "execution_count": 27,
   "metadata": {},
   "outputs": [
    {
     "data": {
      "text/plain": [
       "True"
      ]
     },
     "execution_count": 27,
     "metadata": {},
     "output_type": "execute_result"
    },
    {
     "data": {
      "image/png": "[encoded data removed]",
      "text/plain": [
       "<Figure size 360x360 with 1 Axes>"
      ]
     },
     "metadata": {
      "needs_background": "light"
     },
     "output_type": "display_data"
    }
   ],
   "source": [
    "# RUN THIS CELL TO TEST YOUR FUNCTION\n",
    "df_pokemon = pd.read_csv('pokemon.csv')\n",
    "plot_attack_defense(df_pokemon)"
   ]
  },
  {
   "cell_type": "markdown",
   "metadata": {},
   "source": [
    "3. **Pokémon Trainers Ally Kazam and Cat Erpie are having an argument. Ally believes that `Psychic` type pokémon are superior to `Normal` type pokémon because they have a higher Special Attack, however, Cat disagrees. Complete the function `plot_psychic_vs_bug()` to help Ally Kazam and Cat Erpie compare the distribution of Special Attack for `Psychic` and `Bug` type pokémon.**\n",
    "\n",
    "**Note**: A pokémon `p` belongs to Type `t` if `p`'s `Type 1 = t` OR `p`'s `Type 2 = t`.\n",
    "<span style= 'float: right;'><b>[10 marks]</b></span>"
   ]
  },
  {
   "cell_type": "code",
   "execution_count": 62,
   "metadata": {},
   "outputs": [],
   "source": [
    "def plot_psychic_vs_bug(df_pokemon):\n",
    "    Psychic1 = df_pokemon[(df_pokemon['Type 1']=='Psychic') | (df_pokemon['Type 2']=='Psychic')]\n",
    "    t3=df_pokemon['Type 1']=='Bug'\n",
    "    t4=df_pokemon['Type 2']=='Bug'\n",
    "    Bug = df_pokemon[t3 | t4]\n",
    "    output = []\n",
    "    output.append(Psychic1['Sp. Atk'])\n",
    "    output.append(Bug['Sp. Atk'])\n",
    "    fig = plt.figure(figsize=(5,5))\n",
    "    plt.title('o_code and duration')\n",
    "    plt.boxplot(x=output,labels=['Psychic','bug'])\n",
    "    return True"
   ]
  },
  {
   "cell_type": "code",
   "execution_count": 63,
   "metadata": {},
   "outputs": [
    {
     "data": {
      "text/plain": [
       "True"
      ]
     },
     "execution_count": 63,
     "metadata": {},
     "output_type": "execute_result"
    },
    {
     "data": {
      "image/png": "[encoded data removed]",
      "text/plain": [
       "<Figure size 360x360 with 1 Axes>"
      ]
     },
     "metadata": {
      "needs_background": "light"
     },
     "output_type": "display_data"
    }
   ],
   "source": [
    "# RUN THIS CELL TO TEST YOUR FUNCTION\n",
    "df_pokemon = pd.read_csv('pokemon.csv')\n",
    "plot_psychic_vs_bug(df_pokemon)"
   ]
  },
  {
   "cell_type": "markdown",
   "metadata": {},
   "source": [
    "## Section C - Introductory Machine Learning\n",
    "\n",
    "### Question 4: _[15 marks]_\n",
    "\n",
    "You have been given a file named **admission.csv** which contains a dataset of university admission chance and some factors. The attributes in this dataset includes:\n",
    "\n",
    "1. GRE Scores ( out of 340 )\n",
    "2. TOEFL Scores ( out of 120 ) \n",
    "3. University Rating ( out of 5 ) \n",
    "4. Statement of Purpose and Letter of Recommendation Strength ( out of 5 ) \n",
    "5. Undergraduate GPA ( out of 10 ) \n",
    "6. Research Experience ( either 0 or 1 ) \n",
    "7. Chance of Admit ( ranging from 0 to 1 )\n",
    "\n",
    "With our dataset, we would like to predict the chance that a student will be admitted to study in an university with the some of his/her characters and previous performance. \n",
    "\n",
    "1) **The first thing to do is to load the data into a Pandas DataFrame and make it ready for use for training our linear regression model.**\n",
    "<span style= 'float: right;'><b>[3 marks]</b></span>\n",
    "\n",
    "2) **Then you will have to complete the `linear_regression()` function. This function takes <b>X</b> and <b>Y</b> you constructed from 1) as input, and generates an array $\\textbf{$\\beta$}$, which contains the parameters of the fitted function. You are also expected to complete the `predict()` function, which returns the predicted value $\\hat{y}_{i}$ of a given point $x_{i}$ and the parameters $\\textbf{$\\beta$}$.**\n",
    "<span style= 'float: right;'><b>[7 marks]</b></span>"
   ]
  },
  {
   "cell_type": "code",
   "execution_count": 73,
   "metadata": {},
   "outputs": [
    {
     "name": "stdout",
     "output_type": "stream",
     "text": [
      "The shape of data points X and true value Y are: (400, 6) (400,)\n"
     ]
    }
   ],
   "source": [
    "# TODO: COMPLETE THIS FUNCTION\n",
    "def load_data(data_path):\n",
    "    df_ = pd.read_csv(data_path)\n",
    "    X = df_[['GRE Score','TOEFL Score','University Rating','SOP','CGPA','Research']].values\n",
    "    Y = df_['Chance of Admit'].values\n",
    "\n",
    "    return X, Y\n",
    "\n",
    "X, Y = load_data('./admission.csv')\n",
    "print ('The shape of data points X and true value Y are:', X.shape, Y.shape)"
   ]
  },
  {
   "cell_type": "code",
   "execution_count": 75,
   "metadata": {},
   "outputs": [
    {
     "name": "stdout",
     "output_type": "stream",
     "text": [
      "Fitted model parameters are: [ 0.0017074   0.00262524  0.0087678   0.00568986  0.12887516  0.02526879\n",
      " -1.26698166]\n",
      "The predicted value of [324.   107.     4.     4.     8.87   1.  ] is: 0.7933376019914273\n"
     ]
    }
   ],
   "source": [
    "# TODO: COMPLETE THIS FUNCTION\n",
    "from sklearn.linear_model import LinearRegression\n",
    "def linear_regression(X,Y):\n",
    "    \"\"\"\n",
    "    Inputs: X,Y are numpy arrays containing the training data points and the true value\n",
    "    Outputs: beta is numpy array containing the parameters of the fitted function.\n",
    "    \"\"\"\n",
    "    model = LinearRegression()\n",
    "    model.fit(X,Y)\n",
    "    A=model.coef_\n",
    "    b=model.intercept_\n",
    "    par=np.zeros(7)\n",
    "    for i in range(0,6):\n",
    "        par[i]=A[i]\n",
    "    par[6]=b\n",
    "    beta = None\n",
    "    beta = par\n",
    "    \n",
    "    return beta\n",
    "\n",
    "# TODO: COMPLETE THIS FUNCTION\n",
    "def predict(beta,x):\n",
    "    \"\"\"\n",
    "    Inputs: x is a numpy array of a point in the dataset (padded 1 at the left).\n",
    "            beta is a numpy array containing the parameters of the fitted function.\n",
    "    Outputs: predicted is the value of predicted y_hat of the give data x and parameter set beta.\n",
    "    \"\"\"\n",
    "    predicted = None\n",
    "    predicted = x@beta[0:6]+beta[6]\n",
    "    \n",
    "    return predicted\n",
    "\n",
    "beta = linear_regression(X,Y)\n",
    "predicted_y = predict(beta, X[1,:])\n",
    "\n",
    "print ('Fitted model parameters are:', beta)\n",
    "print ('The predicted value of', X[1,:], 'is:', predicted_y )"
   ]
  },
  {
   "cell_type": "markdown",
   "metadata": {},
   "source": [
    "3) **If your linear model does not perform very well on your data, it sometime means there's less linear relationship in your data. There are many ways of measuring linear relationship and we will use $R^{2}$ measure, which is defined by:**\n",
    "\n",
    "<center> $R^{2}$ = $1- \\dfrac{\\sum{(y_{i}-\\hat{y_{i}})^2}}{\\sum{(y_{i}-\\tilde{y})^2}}$</center>\n",
    "where, $\\tilde{y}$ is the mean of true y values.\n",
    "\n",
    "**Your task here is to implement the `r_square()` function which calculates $R^{2}$ score for the given X and Y.**\n",
    "\n",
    "<span style= 'float: right;'><b>[5 marks]</b></span>"
   ]
  },
  {
   "cell_type": "code",
   "execution_count": 83,
   "metadata": {},
   "outputs": [
    {
     "name": "stdout",
     "output_type": "stream",
     "text": [
      "(400, 6) (400,)\n",
      "The R2 value of this dataset is: 0.7426345757788724\n"
     ]
    }
   ],
   "source": [
    "# TODO: COMPLETE THIS FUNCTION\n",
    "def r_square(X,Y):\n",
    "    \"\"\"\n",
    "    Inputs: X,Y are numpy arrays containing the training data points and the true value\n",
    "    Outputs: r2 is the r square value of the input X and Y\n",
    "    \"\"\"\n",
    "    print(X.shape,Y.shape)\n",
    "    predicted = X@beta[0:6]+beta[6]\n",
    "    R2 = 1\n",
    "    up,down=0,0\n",
    "    for i in range(predicted.shape[0]):\n",
    "        up+=(predicted[i]-Y[i])**2\n",
    "        down+=(predicted[i]-Y.mean())**2\n",
    "    R2=R2-up/down\n",
    "    return R2\n",
    "\n",
    "\n",
    "r2 = r_square(X,Y)\n",
    "print ('The R2 value of this dataset is:', r2 )"
   ]
  }
 ],
 "metadata": {
  "kernelspec": {
   "display_name": "Python 3",
   "language": "python",
   "name": "python3"
  },
  "language_info": {
   "codemirror_mode": {
    "name": "ipython",
    "version": 3
   },
   "file_extension": ".py",
   "mimetype": "text/x-python",
   "name": "python",
   "nbconvert_exporter": "python",
   "pygments_lexer": "ipython3",
   "version": "3.7.3"
  }
 },
 "nbformat": 4,
 "nbformat_minor": 4
}
