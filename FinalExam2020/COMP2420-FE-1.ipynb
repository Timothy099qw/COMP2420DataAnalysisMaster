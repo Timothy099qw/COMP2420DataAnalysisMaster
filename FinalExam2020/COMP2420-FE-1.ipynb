{
 "cells": [
  {
   "cell_type": "markdown",
   "metadata": {},
   "source": [
    "<h1 align='center'> COMP2420/COMP6420 - Introduction to Data Management, <br/>Analysis and Security</h1>\n",
    "\n",
    "<h1 align='center'>Final Exam 1 - Semester 1, 2020</h1>\n",
    "\n",
    "\n",
    "*****\n"
   ]
  },
  {
   "cell_type": "markdown",
   "metadata": {},
   "source": [
    "## Instructions\n",
    "\n",
    "|**Maximum Marks**         |**100**\n",
    "|--------------------------|--------\n",
    "|  **Weightage**           |  **50%** of the Total Course Grade\n",
    "|  **Duration**            |  **15 min** Reading + **180 min** Typing\n",
    "|  **Permitted Material**  |  **Open Book**\n",
    "\n",
    "### General Instructions\n",
    "* Save, Commit (and Push) your changes frequently, so that you do not lose your work.  Do not change the names of the directories or of the files.\n",
    "\n",
    "### Code Instructions\n",
    "* You can import any additional Python modules you may need for your analysis in the first code block. **DO NOT** install any modules other than those present in the Anaconda distribution. \n",
    "* For all coding questions please write your code after the comment `YOUR CODE HERE`.\n",
    "* In the process of testing your code, you can insert more cells or use print statements for debugging, but when submitting your file remember to remove these cells and calls respectively.\n",
    "* You will be marked on **correctness** and **readability** of your code, if your marker can't understand your code your marks may be deducted. \n",
    "\n",
    "### Written Answer Questions\n",
    "* You will be marked on the **correctness**, **depth** and **clarity** of your written answers. If your marker cannot understand your answer, marks may be deducted.\n",
    "* Avoid long-winded answers and give precise answers. Answers should be clear and legible."
   ]
  },
  {
   "cell_type": "code",
   "execution_count": 2,
   "metadata": {},
   "outputs": [],
   "source": [
    "# Important Imports for the question/s\n",
    "import pandas as pd\n",
    "import numpy as np\n",
    "import seaborn as sns\n",
    "import matplotlib.pyplot as plt\n",
    "from sklearn.model_selection import train_test_split\n",
    "from sklearn.neighbors import KNeighborsClassifier\n",
    "from sklearn.tree import DecisionTreeClassifier\n",
    "from sklearn.linear_model import LinearRegression\n",
    "from sklearn.cluster import KMeans, MeanShift\n",
    "from sklearn.decomposition import PCA\n",
    "import sklearn.metrics as skm\n",
    "from scipy.stats import ttest_ind\n",
    "import sqlite3\n",
    "from sqlite3 import Error\n",
    "plt.style.use('seaborn-notebook')\n",
    "## inline figures\n",
    "%matplotlib inline\n",
    "\n",
    "# Getting rid of warnings\n",
    "import warnings\n",
    "warnings.filterwarnings(\"ignore\")"
   ]
  },
  {
   "cell_type": "code",
   "execution_count": 3,
   "metadata": {},
   "outputs": [],
   "source": [
    "# Add imports as necessary. \n",
    "# You are only allowed to use what is in the standard Anaconda installation\n",
    "import os"
   ]
  },
  {
   "cell_type": "markdown",
   "metadata": {},
   "source": [
    "****\n",
    "## Question 1: Security _[20 marks]_ \n",
    "The following questions will cover the topic of security covered in the lectures\n",
    "and labs. Please provide your written answers in the raw text boxes provided.\n",
    "_Any_ external information you use **must be referenced**. Provide references\n",
    "in the raw textbox and statement of originality."
   ]
  },
  {
   "cell_type": "markdown",
   "metadata": {},
   "source": [
    "### Q1.1: Super Secret\n",
    "Consider the following scenario:\n",
    "> Alex has designed a question for the final exam and would like to send it to Ramesh. However, he is worried about the possibility of an unauthorized person getting access to the question and leaking it before the exam. Because of this concern, he'd like to ensure that the question can only be read by Ramesh.\n",
    "\n",
    "Assuming Alex and Ramesh haven't had any secure communications earlier, answer the following questions."
   ]
  },
  {
   "cell_type": "markdown",
   "metadata": {},
   "source": [
    "#### Q1.1.1: What options do they have to ensure the confidentiality of the exam question? Which option would you recommend they use? Explain why.\n",
    "<span style= 'float: right;'><b>[4 marks]</b></span>"
   ]
  },
  {
   "cell_type": "raw",
   "metadata": {},
   "source": [
    "# Your answer here\n",
    "symmetric encryption / asymmetric encryption\n",
    "asymmetric encryption has a better confidentiality, but it need a lot calculation.\n",
    "symmetric encryption compute fast. It requires sender and receiver both have key."
   ]
  },
  {
   "cell_type": "markdown",
   "metadata": {},
   "source": [
    "#### Q1.1.2: What information do Alex and Ramesh have to exchange before the exam question can be transferred securely? Explain the secure transfer from Alex to Ramesh step by step, including what kind of encryption algorithms and keys are used.\n",
    "<span style= 'float: right;'><b>[8 marks]</b></span>"
   ]
  },
  {
   "cell_type": "raw",
   "metadata": {},
   "source": [
    "# Your answer here\n",
    "Alex and Ramesh know each other public key, use Ramesh public key to encrypt the message got secrite message, secrite message hashed to abstract, abstract use Alex private key got signture. Then send to Ramesh. \n",
    "Ramesh receive the message, use Ramesh private key decrypt the message got the origin message and signture, use Alex public key to decrypt the signture got the abstract, compared with hashed origin message.\n",
    "\n",
    "无需交换且可以传输大体积文件 使用AES对称密码体制对传输数据加密，同时使用RSA不对称密码体制来传送AES的密钥\n",
    "1.发送者创建要发送的数据\n",
    "2.发送者用一个在发送者和接收者间协商好的统一的消息摘要算法对发送数据计算出消息摘要\n",
    "3.发送者用自己的RSA非对称密钥中的私钥加密第2步中得到的消息摘要得到数据签名,并把数据签名附在发送数据后面,现在要发送的数据是第1步中的数据+数据签名\n",
    "4.发送者随机生成一个对成密钥DES的密钥,并用这个密钥加密第3步中得到的要发送的数据,得到密文\n",
    "5.发送者得到接收者的RSA对称密钥中的公钥,并用这个公钥对第4步中生成的DES密钥加密\n",
    "6.发送者将密文和加密的DES密钥发送给接收者\n",
    "7.接收者接收到发送者的密文及加密的DES密钥\n",
    "8.接收者用自己的RSA对称密钥中的私钥解密发送者加密的DES密钥,得到发送者的DES密钥,特别注意的一点是,在这个步骤中,一定要在系统中把这个DES密钥置为丢弃不可再用的密钥,否则可能会影响到以后的数据传输安全\n",
    "9.接收者用第8步中解密得到的DES密钥解密接收到的密文,得到明文数据,该明文数据包括第1步要发送的数据明文和第3步中的数据签名\n",
    "10.接收者用发送者的RSA对称密钥中的公钥解密第9步中得到的数据签名,得到发送者创建的消息摘要\n",
    "11.接收者用与发送者协商好的消息摘要算法对第9步中得到的明文数据计算消息摘要\n",
    "12.接收者比较自己计算出的消息摘要和第10步中解密出的消息摘要,如果两个消息摘要不同,则认为数据已经被篡改,如果相同,则信任数据是发送者发送的.\n",
    "13.完成."
   ]
  },
  {
   "cell_type": "markdown",
   "metadata": {},
   "source": [
    "### Q1.2: Replaced?\n",
    "Given established and secure _public key_ systems like RSA, are _secret key_ systems like AES at all useful? Briefly explain.\n",
    "<span style= 'float: right;'><b>[4 marks]</b></span>"
   ]
  },
  {
   "cell_type": "raw",
   "metadata": {},
   "source": [
    "# Your answer here\n",
    "yes, RSA: asymmetric 公开密钥 加解密速度慢，不适合大量数据文件加密,加解密过程中不必网络传输保密的密钥Public key is accessable to anyone. low encryption and decryption speed. not suitable for a large number of data file encryption. encryption and decryption process does not need to network transmission secret key\n",
    "AES:symmetric 运行时不需计算机有非常高的处理能力和大的内存,要求在通信前对密钥进行秘密分配，解密的私钥必须通过网络传送至加密数据接收方 \n",
    "Fast encryption and decryption. It requires secret key distribution before communication. The decrypted private key must be transmitted to the encrypted data receiver."
   ]
  },
  {
   "cell_type": "markdown",
   "metadata": {},
   "source": [
    "### Q1.3: Hot Hashing\n",
    "Tom has used a hash function to sign a message that he sends to Alice. Trudy gets hold of the signed hash. She knows that Tom has used a hash function that is not _preimage resistant_. What can Trudy do with this information?\n",
    "<span style= 'float: right;'><b>[4 marks]</b></span>"
   ]
  },
  {
   "cell_type": "raw",
   "metadata": {},
   "source": [
    "# Your answer here\n",
    "可知道明文，因为非抗次原像，可找到替代明文代替原有明文，"
   ]
  },
  {
   "cell_type": "markdown",
   "metadata": {},
   "source": [
    "****\n",
    "## Question 2: Databases & SQL _[20 marks]_ \n",
    "The following questions will cover the topics of Databases & SQL covered in the\n",
    "lectures and labs. Please provide your written answers in the raw text boxes\n",
    "provided, and code answers in the code boxes provided.\n",
    "_Any_ external information you use **must be referenced**. Provide references\n",
    "in the raw textbox or code box as appropriate, and statement of originality."
   ]
  },
  {
   "cell_type": "markdown",
   "metadata": {},
   "source": [
    "### Q2.1: Structured Sanity\n",
    "Consider the following scenario:\n",
    "> Alex has recently taken up a position in a government organisation tracking\n",
    "CAVOD-27 cases in Australia. Alex is about to publish an application that can\n",
    "track when people have come into contact with others who have had the virus,\n",
    "and is attempting to determine how to collect and store this data.\n",
    "\n",
    "How structured is the data that Alex is looking to collect? Discuss what data\n",
    "might be present in this process and how it could be structured, if at all.\n",
    "<span style= 'float: right;'><b>[5 marks]</b></span>"
   ]
  },
  {
   "cell_type": "raw",
   "metadata": {},
   "source": [
    "# Your answer here\n",
    "friend table: who have friends with whom.\n",
    "person table: personal information, name, id, has virus?"
   ]
  },
  {
   "cell_type": "markdown",
   "metadata": {},
   "source": [
    "### Q2.2: Nauseous North Winds\n",
    "The following question is designed to test your sql skills. You have been provided a database, which you will be required to run a number of queries over. You should provide the query, and the output in an appropriate format. You may use the Pandas sql<>DataFrame functionality, or regular sqlite3 cursor functionality.\n",
    "\n",
    "Your database looks as follows:\n",
    "\n",
    "![nw](./img/nw.gif)\n",
    "\n",
    "\n",
    "**Note:** Due to the database setup, some tables have whitespace in their names. To avoid any issues, use quotations around the table name (example below)\n",
    "```sql\n",
    "-- Example of use of quotation marks for handling table name\n",
    "SELECT * FROM \"ORDER DETAILS\";\n",
    "```"
   ]
  },
  {
   "cell_type": "code",
   "execution_count": 16,
   "metadata": {},
   "outputs": [
    {
     "name": "stdout",
     "output_type": "stream",
     "text": [
      "Connection established!\n"
     ]
    }
   ],
   "source": [
    "# THIS IS YOUR CONNECTION BLOCK, DO NOT MODIFY THIS. \n",
    "# OTHERWISE, YOU WILL NOT BE ABLE TO READ THE DATABASE\n",
    "def create_connection(db_file):\n",
    "    \"\"\" Connect to the specified SQLite database, if not exist, create a new one (in memory);\n",
    "    :db_file: location of db to connect to\n",
    "    :return: Connection object or None\n",
    "    \"\"\"\n",
    "    conn = None\n",
    "    try:\n",
    "        conn = sqlite3.connect(db_file)\n",
    "        print(\"Connection established!\")\n",
    "    except Error as e:\n",
    "        print(\"Error Connecting to Database\")\n",
    "        raise(e)\n",
    "    return conn\n",
    "\n",
    "dbfile_nw = \"./data/q2.db\"\n",
    "conn = create_connection(dbfile_nw) \n",
    "# conn.text_factory = bytes\n",
    "cur = conn.cursor()\n",
    "# remember to close the connection when everything is done"
   ]
  },
  {
   "cell_type": "markdown",
   "metadata": {},
   "source": [
    "#### Q2.2.1: Dubious Discounts\n",
    "Specify how many products received a discount of more than 10% when sold. In this instance, you can assume there is a 1-1 relationship between orders and products sold in an order.\n",
    "<span style= 'float: right;'><b>[4 marks]</b></span>"
   ]
  },
  {
   "cell_type": "code",
   "execution_count": 10,
   "metadata": {},
   "outputs": [],
   "source": [
    "def execute_sql(query):\n",
    "    # Select table and display\n",
    "    cur.execute(query)\n",
    "\n",
    "    # Fetches all the rows from the result of the query\n",
    "    rows = cur.fetchall()\n",
    "    \n",
    "    # Gets the column names for the table\n",
    "    colnames = [desc[0] for desc in cur.description]\n",
    "\n",
    "    # Converts into readable pandas dataframe\n",
    "    df_result = pd.DataFrame(rows, columns=colnames)\n",
    "    return df_result"
   ]
  },
  {
   "cell_type": "code",
   "execution_count": 11,
   "metadata": {},
   "outputs": [
    {
     "data": {
      "text/html": [
       "<div>\n",
       "<style scoped>\n",
       "    .dataframe tbody tr th:only-of-type {\n",
       "        vertical-align: middle;\n",
       "    }\n",
       "\n",
       "    .dataframe tbody tr th {\n",
       "        vertical-align: top;\n",
       "    }\n",
       "\n",
       "    .dataframe thead th {\n",
       "        text-align: right;\n",
       "    }\n",
       "</style>\n",
       "<table border=\"1\" class=\"dataframe\">\n",
       "  <thead>\n",
       "    <tr style=\"text-align: right;\">\n",
       "      <th></th>\n",
       "      <th>number</th>\n",
       "    </tr>\n",
       "  </thead>\n",
       "  <tbody>\n",
       "    <tr>\n",
       "      <th>0</th>\n",
       "      <td>472</td>\n",
       "    </tr>\n",
       "  </tbody>\n",
       "</table>\n",
       "</div>"
      ],
      "text/plain": [
       "   number\n",
       "0     472"
      ]
     },
     "execution_count": 11,
     "metadata": {},
     "output_type": "execute_result"
    }
   ],
   "source": [
    "# Your Code Here\n",
    "sql='select count(*) as number from Products,\"Order Details\" where Products.ProductID=\"Order Details\".ProductID and Discount>0.1'\n",
    "execute_sql(sql)"
   ]
  },
  {
   "cell_type": "markdown",
   "metadata": {},
   "source": [
    "#### Q2.2.2: Best Sellers\n",
    "Assuming commission is based on 5% of the unit price of an order/productID pair, determine the amount of commission (in dollars) made by the employee with `employeeid` **1** (one). (You may assume that the unit price has already had the discount applied).\n",
    "<span style= 'float: right;'><b>[5 marks]</b></span>"
   ]
  },
  {
   "cell_type": "code",
   "execution_count": 12,
   "metadata": {},
   "outputs": [
    {
     "data": {
      "text/html": [
       "<div>\n",
       "<style scoped>\n",
       "    .dataframe tbody tr th:only-of-type {\n",
       "        vertical-align: middle;\n",
       "    }\n",
       "\n",
       "    .dataframe tbody tr th {\n",
       "        vertical-align: top;\n",
       "    }\n",
       "\n",
       "    .dataframe thead th {\n",
       "        text-align: right;\n",
       "    }\n",
       "</style>\n",
       "<table border=\"1\" class=\"dataframe\">\n",
       "  <thead>\n",
       "    <tr style=\"text-align: right;\">\n",
       "      <th></th>\n",
       "      <th>sum(\"Order Details\".UnitPrice*0.05)</th>\n",
       "    </tr>\n",
       "  </thead>\n",
       "  <tbody>\n",
       "    <tr>\n",
       "      <th>0</th>\n",
       "      <td>436.622</td>\n",
       "    </tr>\n",
       "  </tbody>\n",
       "</table>\n",
       "</div>"
      ],
      "text/plain": [
       "   sum(\"Order Details\".UnitPrice*0.05)\n",
       "0                              436.622"
      ]
     },
     "execution_count": 12,
     "metadata": {},
     "output_type": "execute_result"
    }
   ],
   "source": [
    "# Your Code Here\n",
    "sql='select sum(\"Order Details\".UnitPrice*0.05)  from Employees,\"Order Details\",Orders where Orders.OrderID=\"Order Details\".OrderID and Employees.EmployeeID = Orders.EmployeeID and Employees.\"EmployeeID\"=1 group by Employees.EmployeeID'\n",
    "execute_sql(sql)"
   ]
  },
  {
   "cell_type": "markdown",
   "metadata": {},
   "source": [
    "#### Q2.2.3: Multinational\n",
    "Provide a list of all the countries that are listed as customer addresses, and the number of customers in each country. Order the result based on the number of customers in each country. You may include null values. Order the list in descending order.\n",
    "<span style= 'float: right;'><b>[6 marks]</b></span>"
   ]
  },
  {
   "cell_type": "code",
   "execution_count": 17,
   "metadata": {},
   "outputs": [
    {
     "data": {
      "text/html": [
       "<div>\n",
       "<style scoped>\n",
       "    .dataframe tbody tr th:only-of-type {\n",
       "        vertical-align: middle;\n",
       "    }\n",
       "\n",
       "    .dataframe tbody tr th {\n",
       "        vertical-align: top;\n",
       "    }\n",
       "\n",
       "    .dataframe thead th {\n",
       "        text-align: right;\n",
       "    }\n",
       "</style>\n",
       "<table border=\"1\" class=\"dataframe\">\n",
       "  <thead>\n",
       "    <tr style=\"text-align: right;\">\n",
       "      <th></th>\n",
       "      <th>num</th>\n",
       "      <th>Country</th>\n",
       "    </tr>\n",
       "  </thead>\n",
       "  <tbody>\n",
       "    <tr>\n",
       "      <th>0</th>\n",
       "      <td>13</td>\n",
       "      <td>USA</td>\n",
       "    </tr>\n",
       "    <tr>\n",
       "      <th>1</th>\n",
       "      <td>11</td>\n",
       "      <td>France</td>\n",
       "    </tr>\n",
       "    <tr>\n",
       "      <th>2</th>\n",
       "      <td>11</td>\n",
       "      <td>Germany</td>\n",
       "    </tr>\n",
       "    <tr>\n",
       "      <th>3</th>\n",
       "      <td>9</td>\n",
       "      <td>Brazil</td>\n",
       "    </tr>\n",
       "    <tr>\n",
       "      <th>4</th>\n",
       "      <td>7</td>\n",
       "      <td>UK</td>\n",
       "    </tr>\n",
       "    <tr>\n",
       "      <th>5</th>\n",
       "      <td>5</td>\n",
       "      <td>Mexico</td>\n",
       "    </tr>\n",
       "    <tr>\n",
       "      <th>6</th>\n",
       "      <td>5</td>\n",
       "      <td>Spain</td>\n",
       "    </tr>\n",
       "    <tr>\n",
       "      <th>7</th>\n",
       "      <td>4</td>\n",
       "      <td>Venezuela</td>\n",
       "    </tr>\n",
       "    <tr>\n",
       "      <th>8</th>\n",
       "      <td>3</td>\n",
       "      <td>Argentina</td>\n",
       "    </tr>\n",
       "    <tr>\n",
       "      <th>9</th>\n",
       "      <td>3</td>\n",
       "      <td>Canada</td>\n",
       "    </tr>\n",
       "    <tr>\n",
       "      <th>10</th>\n",
       "      <td>3</td>\n",
       "      <td>Italy</td>\n",
       "    </tr>\n",
       "    <tr>\n",
       "      <th>11</th>\n",
       "      <td>2</td>\n",
       "      <td>None</td>\n",
       "    </tr>\n",
       "    <tr>\n",
       "      <th>12</th>\n",
       "      <td>2</td>\n",
       "      <td>Austria</td>\n",
       "    </tr>\n",
       "    <tr>\n",
       "      <th>13</th>\n",
       "      <td>2</td>\n",
       "      <td>Belgium</td>\n",
       "    </tr>\n",
       "    <tr>\n",
       "      <th>14</th>\n",
       "      <td>2</td>\n",
       "      <td>Denmark</td>\n",
       "    </tr>\n",
       "    <tr>\n",
       "      <th>15</th>\n",
       "      <td>2</td>\n",
       "      <td>Finland</td>\n",
       "    </tr>\n",
       "    <tr>\n",
       "      <th>16</th>\n",
       "      <td>2</td>\n",
       "      <td>Portugal</td>\n",
       "    </tr>\n",
       "    <tr>\n",
       "      <th>17</th>\n",
       "      <td>2</td>\n",
       "      <td>Sweden</td>\n",
       "    </tr>\n",
       "    <tr>\n",
       "      <th>18</th>\n",
       "      <td>2</td>\n",
       "      <td>Switzerland</td>\n",
       "    </tr>\n",
       "    <tr>\n",
       "      <th>19</th>\n",
       "      <td>1</td>\n",
       "      <td>Ireland</td>\n",
       "    </tr>\n",
       "    <tr>\n",
       "      <th>20</th>\n",
       "      <td>1</td>\n",
       "      <td>Norway</td>\n",
       "    </tr>\n",
       "    <tr>\n",
       "      <th>21</th>\n",
       "      <td>1</td>\n",
       "      <td>Poland</td>\n",
       "    </tr>\n",
       "  </tbody>\n",
       "</table>\n",
       "</div>"
      ],
      "text/plain": [
       "    num      Country\n",
       "0    13          USA\n",
       "1    11       France\n",
       "2    11      Germany\n",
       "3     9       Brazil\n",
       "4     7           UK\n",
       "5     5       Mexico\n",
       "6     5        Spain\n",
       "7     4    Venezuela\n",
       "8     3    Argentina\n",
       "9     3       Canada\n",
       "10    3        Italy\n",
       "11    2         None\n",
       "12    2      Austria\n",
       "13    2      Belgium\n",
       "14    2      Denmark\n",
       "15    2      Finland\n",
       "16    2     Portugal\n",
       "17    2       Sweden\n",
       "18    2  Switzerland\n",
       "19    1      Ireland\n",
       "20    1       Norway\n",
       "21    1       Poland"
      ]
     },
     "execution_count": 17,
     "metadata": {},
     "output_type": "execute_result"
    }
   ],
   "source": [
    "# Your Code Here\n",
    "sql='select count(*) as num,Country  from Customers group by Customers.Country order by num desc'\n",
    "execute_sql(sql)"
   ]
  },
  {
   "cell_type": "markdown",
   "metadata": {},
   "source": [
    "****\n",
    "## Question 3: Data Analysis _[20 marks]_ \n",
    "The following questions will cover the topic of Data Analysis covered in the\n",
    "lectures and labs. Please provide your written answers in the raw text boxes\n",
    "provided, and code answers in the code boxes provided.\n",
    "_Any_ external information you use **must be referenced**. Provide references\n",
    "in the raw textbox or code box as appropriate, and statement of originality."
   ]
  },
  {
   "cell_type": "markdown",
   "metadata": {},
   "source": [
    "### 3.1: Modeling the Ideal Model\n",
    "\n",
    "Consider the following scenario:\n",
    "> While you're working at a consulting firm, one of your colleagues, Afzal, created a machine learning model for a real estate agent client to predict the price of a house.\n",
    ">\n",
    "> The data initially contains data from 10,000 houses. Each house has information such as:\n",
    "> - number of bedrooms\n",
    "> - number of bathrooms\n",
    "> - size of the land in square meters ($m^2$)\n",
    "> - the year the house was built\n",
    "> - suburb name (eg. \"Acton\", \"Gungahlin\", \"Holder\")\n",
    "> - the price in thousands of dollars (\\\\$000's)\n",
    "> - 3 other relevant details (you may assume all of these other values are numerical)\n",
    "> \n",
    "> Some of the data is missing - for example, for many old houses, the year that the house was built is unknown so the entry is \"NaN\" for this value.\n",
    ">\n",
    "> Afzal creates the model by:\n",
    "> - Dropping all rows where any of the values are \"NaN\". This reduces the number of houses to 6,740.\n",
    "> - Recoding the suburb name alphabetically using Label Encoding (eg. Acton as 1, Aranda as 2, ..., Woden as 46, Wright as 47, etc).\n",
    "> - Using all of the data (except for the house price column, of course!), Afzal fits the model using a linear regression model.\n",
    "> - He reports the coefficients for the model - some are positive and some are negative. In particular, the intercept is a negative number.\n",
    "> - He also reports the score of his model using all of the data, and gets an R^2 score of 0.923 and a Mean-Squared Error (MSE) of 48,030. He shows these scores to your boss and explains that a score of 0.923 is great!\n",
    ">\n",
    "> Your boss is very impressed by Afzal's model, and is just about to present it to the client. However, you suspect that there's something wrong here.\n",
    "\n",
    "Clearly describe each issue in the process of this model creation, why this is an issue in a general context when creating a machine learning model (not just in this scenario), and what you would do instead in this scenario.\n",
    "\n",
    "If you find that there are more than 3 issues, only discuss the biggest 3 issues. For each issue, use a new raw text box and provide your response regarding that issue in that text box. Be sure to state all assumptions.\n",
    "<span style= 'float: right;'><b>[10 marks]</b></span>"
   ]
  },
  {
   "cell_type": "raw",
   "metadata": {},
   "source": [
    "# YOUR ANSWER HERE\n",
    "# Issue 1\n",
    "Dropping all rows where any of the values are \"NaN\". This reduces the number of houses to 6,740. In this case, many old house are droped which may have a bad effect on the model."
   ]
  },
  {
   "cell_type": "raw",
   "metadata": {},
   "source": [
    "# YOUR ANSWER HERE\n",
    "# Issue 2 (if you find a second issue)\n",
    "Using all of the data. we need to choose the most influencial element instead all element."
   ]
  },
  {
   "cell_type": "raw",
   "metadata": {},
   "source": [
    "# YOUR ANSWER HERE\n",
    "# Issue 3 (if you find a third issue)\n",
    "He also reports the score of his model using all of the data, and gets an R^2 score of 0.923 and a Mean-Squared Error (MSE) of 48,030. He shows these scores to your boss and explains that a score of 0.923 is great! \n",
    "test set train set"
   ]
  },
  {
   "cell_type": "markdown",
   "metadata": {},
   "source": [
    "### 3.2: Rough Time in the Rumble\n",
    "The Royal Rumble Dataset from Assignment 2 has made a return. As a reminder, you have a number of csvs in the following format:\n",
    "\n",
    "| Field             | Description |\n",
    "| :---------------  | ---------: |\n",
    "| Draw          | The number of the entrant |\n",
    "| Entrant       | The Entrant's name        |\n",
    "| Brand         | Brand division, only exists in files for 2003-2011 and 2017 or later |\n",
    "| Order         | The position of which the entrant was eliminated. A Winner will have the order of `-` |\n",
    "| Eliminated by | Name of the entrant who eliminated them<br>This may be multiple entrants, in which case it is semicolon-delimited (';')<br>If this is \"Winner\", then this indicates that the entrant won the event (never eliminated) |\n",
    "| Time          | The amount of time (in minutes) the entrant was in the match<br>If this is '00:00', don't include them as a participant in the match; the reason will be given in `Eliminated by` |\n",
    "| Eliminations  | The number of entrants they eliminated |\n",
    "\n",
    "\n",
    "The following questions are designed to test your data analysis skills."
   ]
  },
  {
   "cell_type": "markdown",
   "metadata": {},
   "source": [
    "#### 3.2.1: The Entrances\n",
    "Import all the datasets (available in `./data/q3`), providing two dataframes of the entire rumble history: one for female matches and one for male matches. Add a column that specifies the year of the row.  At the end of this question, your two dataframes should match the following schema (one for males, one for females):\n",
    "\n",
    "| Draw | Entrant | Brand/Status | Order | Eliminated by | Time | Elimination(s) | Year |\n",
    "| :--- | :------ | :---- | :---- | :------------ | :--- | :----------- | :--- |\n",
    "| 1    | Brock Lesnar | Raw | 14 | Drew McIntyre | 26:24| 13           | 2020 |\n",
    "| 1    | Bret Hart | No Data | 8 | Don Muraco | 25:42 | 1 | 1988 |\n",
    "\n",
    "Note: For any column, where you do not have the data, you may fill that in as \"No Data\". You also don't have to sort by Draw, this is simply showing an example of a \"No Data\" column.\n",
    "<span style= 'float: right;'><b>[3 marks]</b></span>"
   ]
  },
  {
   "cell_type": "code",
   "execution_count": 5,
   "metadata": {},
   "outputs": [
    {
     "data": {
      "text/html": [
       "<div>\n",
       "<style scoped>\n",
       "    .dataframe tbody tr th:only-of-type {\n",
       "        vertical-align: middle;\n",
       "    }\n",
       "\n",
       "    .dataframe tbody tr th {\n",
       "        vertical-align: top;\n",
       "    }\n",
       "\n",
       "    .dataframe thead th {\n",
       "        text-align: right;\n",
       "    }\n",
       "</style>\n",
       "<table border=\"1\" class=\"dataframe\">\n",
       "  <thead>\n",
       "    <tr style=\"text-align: right;\">\n",
       "      <th></th>\n",
       "      <th>Entrant</th>\n",
       "      <th>Brand/Status</th>\n",
       "      <th>Order</th>\n",
       "      <th>Eliminated by</th>\n",
       "      <th>Time</th>\n",
       "      <th>Elimination(s)</th>\n",
       "      <th>Year</th>\n",
       "    </tr>\n",
       "    <tr>\n",
       "      <th>Draw</th>\n",
       "      <th></th>\n",
       "      <th></th>\n",
       "      <th></th>\n",
       "      <th></th>\n",
       "      <th></th>\n",
       "      <th></th>\n",
       "      <th></th>\n",
       "    </tr>\n",
       "  </thead>\n",
       "  <tbody>\n",
       "    <tr>\n",
       "      <th>1</th>\n",
       "      <td>Sasha Banks</td>\n",
       "      <td>Raw</td>\n",
       "      <td>27</td>\n",
       "      <td>Brie Bella &amp; Nikki Bella</td>\n",
       "      <td>54:46</td>\n",
       "      <td>3</td>\n",
       "      <td>2018</td>\n",
       "    </tr>\n",
       "    <tr>\n",
       "      <th>2</th>\n",
       "      <td>Becky Lynch</td>\n",
       "      <td>SmackDown</td>\n",
       "      <td>14</td>\n",
       "      <td>Ruby Riott</td>\n",
       "      <td>30:54</td>\n",
       "      <td>2</td>\n",
       "      <td>2018</td>\n",
       "    </tr>\n",
       "    <tr>\n",
       "      <th>3</th>\n",
       "      <td>Sarah Logan</td>\n",
       "      <td>SmackDown</td>\n",
       "      <td>7</td>\n",
       "      <td>Molly Holly</td>\n",
       "      <td>16:30</td>\n",
       "      <td>0</td>\n",
       "      <td>2018</td>\n",
       "    </tr>\n",
       "    <tr>\n",
       "      <th>4</th>\n",
       "      <td>Mandy Rose</td>\n",
       "      <td>Raw</td>\n",
       "      <td>1</td>\n",
       "      <td>Lita</td>\n",
       "      <td>03:52</td>\n",
       "      <td>0</td>\n",
       "      <td>2018</td>\n",
       "    </tr>\n",
       "    <tr>\n",
       "      <th>5</th>\n",
       "      <td>Lita</td>\n",
       "      <td>Free agent</td>\n",
       "      <td>3</td>\n",
       "      <td>Becky Lynch</td>\n",
       "      <td>05:51</td>\n",
       "      <td>2</td>\n",
       "      <td>2018</td>\n",
       "    </tr>\n",
       "    <tr>\n",
       "      <th>...</th>\n",
       "      <td>...</td>\n",
       "      <td>...</td>\n",
       "      <td>...</td>\n",
       "      <td>...</td>\n",
       "      <td>...</td>\n",
       "      <td>...</td>\n",
       "      <td>...</td>\n",
       "    </tr>\n",
       "    <tr>\n",
       "      <th>26</th>\n",
       "      <td>Shotzi Blackheart</td>\n",
       "      <td>NXT</td>\n",
       "      <td>23</td>\n",
       "      <td>Shayna Baszler</td>\n",
       "      <td>07:57</td>\n",
       "      <td>0</td>\n",
       "      <td>2020</td>\n",
       "    </tr>\n",
       "    <tr>\n",
       "      <th>27</th>\n",
       "      <td>Carmella</td>\n",
       "      <td>Smackdown</td>\n",
       "      <td>24</td>\n",
       "      <td>Shayna Baszler</td>\n",
       "      <td>06:36</td>\n",
       "      <td>0</td>\n",
       "      <td>2020</td>\n",
       "    </tr>\n",
       "    <tr>\n",
       "      <th>28</th>\n",
       "      <td>Tegan Nox</td>\n",
       "      <td>NXT</td>\n",
       "      <td>21</td>\n",
       "      <td>Shayna Baszler</td>\n",
       "      <td>03:50</td>\n",
       "      <td>0</td>\n",
       "      <td>2020</td>\n",
       "    </tr>\n",
       "    <tr>\n",
       "      <th>29</th>\n",
       "      <td>Santina Marella</td>\n",
       "      <td>Free agent</td>\n",
       "      <td>19</td>\n",
       "      <td>Santina Marella</td>\n",
       "      <td>01:01</td>\n",
       "      <td>0</td>\n",
       "      <td>2020</td>\n",
       "    </tr>\n",
       "    <tr>\n",
       "      <th>30</th>\n",
       "      <td>Shayna Baszler</td>\n",
       "      <td>NXT</td>\n",
       "      <td>29</td>\n",
       "      <td>Charlotte Flair</td>\n",
       "      <td>04:27</td>\n",
       "      <td>8</td>\n",
       "      <td>2020</td>\n",
       "    </tr>\n",
       "  </tbody>\n",
       "</table>\n",
       "<p>90 rows × 7 columns</p>\n",
       "</div>"
      ],
      "text/plain": [
       "                Entrant Brand/Status Order             Eliminated by   Time  \\\n",
       "Draw                                                                          \n",
       "1           Sasha Banks          Raw    27  Brie Bella & Nikki Bella  54:46   \n",
       "2           Becky Lynch    SmackDown    14                Ruby Riott  30:54   \n",
       "3           Sarah Logan    SmackDown     7               Molly Holly  16:30   \n",
       "4            Mandy Rose          Raw     1                      Lita  03:52   \n",
       "5                  Lita   Free agent     3               Becky Lynch  05:51   \n",
       "...                 ...          ...   ...                       ...    ...   \n",
       "26    Shotzi Blackheart          NXT    23            Shayna Baszler  07:57   \n",
       "27             Carmella    Smackdown    24            Shayna Baszler  06:36   \n",
       "28            Tegan Nox          NXT    21            Shayna Baszler  03:50   \n",
       "29      Santina Marella   Free agent    19           Santina Marella  01:01   \n",
       "30       Shayna Baszler          NXT    29           Charlotte Flair  04:27   \n",
       "\n",
       "      Elimination(s)  Year  \n",
       "Draw                        \n",
       "1                  3  2018  \n",
       "2                  2  2018  \n",
       "3                  0  2018  \n",
       "4                  0  2018  \n",
       "5                  2  2018  \n",
       "...              ...   ...  \n",
       "26                 0  2020  \n",
       "27                 0  2020  \n",
       "28                 0  2020  \n",
       "29                 0  2020  \n",
       "30                 8  2020  \n",
       "\n",
       "[90 rows x 7 columns]"
      ]
     },
     "execution_count": 5,
     "metadata": {},
     "output_type": "execute_result"
    }
   ],
   "source": [
    "# Your Code Here\n",
    "file_dir = \"./data/q3\"  # file directory\n",
    "all_csv_list = os.listdir(file_dir)  # get csv list\n",
    "f1,f2 = True,True\n",
    "for single_csv in all_csv_list:\n",
    "    path = os.path.join(file_dir, single_csv)\n",
    "    name = single_csv.split('.')[0]\n",
    "    if name[-1]=='m':\n",
    "        if f1:\n",
    "            tmp = pd.read_csv(path, index_col=0)\n",
    "            tmp['Year']  = name[:-1]\n",
    "            male = tmp.copy()\n",
    "            f1 = False\n",
    "        else:\n",
    "            tmp = pd.read_csv(path, index_col=0)\n",
    "            tmp['Year']  = name[:-1]\n",
    "            male = male.append(tmp.copy())\n",
    "    else:\n",
    "        if f2:\n",
    "            tmp = pd.read_csv(path, index_col=0)\n",
    "            tmp['Year']  = name[:-1]\n",
    "            female = tmp.copy()\n",
    "            f2 = False\n",
    "        else:\n",
    "            tmp = pd.read_csv(path, index_col=0)\n",
    "            tmp['Year']  = name[:-1]\n",
    "            female = female.append(tmp.copy())\n",
    "female"
   ]
  },
  {
   "cell_type": "markdown",
   "metadata": {},
   "source": [
    "#### 3.2.2: Number One & Two\n",
    "Naturally, you would think positions (denoted as draw) 1 (one) & 2 (two) would be the worst to have, although anything can happen. Show the 3 positions that have yielded the most winners in the **Mens** Royal Rumble Match.\n",
    "<span style= 'float: right;'><b>[2 marks]</b></span>"
   ]
  },
  {
   "cell_type": "code",
   "execution_count": null,
   "metadata": {},
   "outputs": [],
   "source": [
    "# Your Code Here\n"
   ]
  },
  {
   "cell_type": "markdown",
   "metadata": {},
   "source": [
    "#### 3.2.3: Scared of the Ropes\n",
    "Provide the 5 participants who have eliminated the least people in the **Mens** Royal Rumble. Only consider people who have participated in more than 2 events.\n",
    "<span style= 'float: right;'><b>[2 marks]</b></span>"
   ]
  },
  {
   "cell_type": "code",
   "execution_count": null,
   "metadata": {},
   "outputs": [],
   "source": [
    "# Your Code Here"
   ]
  },
  {
   "cell_type": "markdown",
   "metadata": {},
   "source": [
    "#### 3.2.4: Battling Baszler & Belair\n",
    "Show each participant that was eliminated by either Shayna Baszler or Bianca Belair (or both), what spot they entered in, and who eliminated them.\n",
    "<span style= 'float: right;'><b>[3 marks]</b></span>"
   ]
  },
  {
   "cell_type": "code",
   "execution_count": null,
   "metadata": {},
   "outputs": [],
   "source": [
    "# Your Code Here"
   ]
  },
  {
   "cell_type": "markdown",
   "metadata": {},
   "source": [
    "****\n",
    "## Q4 - Machine Learning _[30 Marks]_\n",
    "The following questions will cover the topic of Machine Learning covered in the\n",
    "lectures and labs. Please provide your written answers in the raw text boxes\n",
    "provided, and code answers in the code boxes provided.\n",
    "_Any_ external information you use **must be referenced**. Provide references\n",
    "in the raw textbox or code box as appropriate, and statement of originality."
   ]
  },
  {
   "cell_type": "markdown",
   "metadata": {},
   "source": [
    "### Q4.1: Serious about Soccer\n",
    "\n",
    "The data is in the location `/data/q4.csv`. Your data looks as follows:\n",
    "\n",
    "| **Name**             | **Description**                                         |\n",
    "| -------------------- | ------------------------------------------------------- |\n",
    "| ID             | Player ID |\n",
    "| Age             | Age of player |\n",
    "| Stamina                | Stamina skill value of player                           |\n",
    "| Strength                | Strength skill value of player                           |\n",
    "| Aggression                | Aggression skill value of player                           |\n",
    "| Interceptions                | Interceptions skill value of player                           |\n",
    "| Penalties                | Penality skill value of player                           |\n",
    "| Composure                | Composure skill value of player                           |\n",
    "\n",
    "\n",
    "\n",
    "In preparation for further data analysis at a later date, Ben wants to separate the soccer players into distinct groups based on their characteristics.\n",
    "\n",
    "He has recruited you to find these groups for him, because he's heard you're good at this sort of thing. In fact, he trusts your judgement so much that he's given you (almost) total control over what sort of groups you create. His only requests are:\n",
    "- Consider all the data he's giving you - try not to throw away data that he's spent time to gather, unless you've got a good reason for it.\n",
    "- He doesn't want too many groups; if there's a large number of groups then it's hard for him to do group-specific data analysis later.\n",
    "- While he trusts your judgement, he also wants to know what your judgement is. When you present the groups to him, he wants a description of each group and why it differs from the rest.\n",
    "\n",
    "#### Q4.1.1: Starting Off\n",
    "Start by importing the data and pre-processing it as you wish.\n",
    "<span style= 'float: right;'><b>[1 mark]</b></span>"
   ]
  },
  {
   "cell_type": "code",
   "execution_count": 5,
   "metadata": {},
   "outputs": [
    {
     "data": {
      "text/html": [
       "<div>\n",
       "<style scoped>\n",
       "    .dataframe tbody tr th:only-of-type {\n",
       "        vertical-align: middle;\n",
       "    }\n",
       "\n",
       "    .dataframe tbody tr th {\n",
       "        vertical-align: top;\n",
       "    }\n",
       "\n",
       "    .dataframe thead th {\n",
       "        text-align: right;\n",
       "    }\n",
       "</style>\n",
       "<table border=\"1\" class=\"dataframe\">\n",
       "  <thead>\n",
       "    <tr style=\"text-align: right;\">\n",
       "      <th></th>\n",
       "      <th>ID</th>\n",
       "      <th>Age</th>\n",
       "      <th>Stamina</th>\n",
       "      <th>Strength</th>\n",
       "      <th>Aggression</th>\n",
       "      <th>Interceptions</th>\n",
       "      <th>Penalties</th>\n",
       "      <th>Composure</th>\n",
       "    </tr>\n",
       "  </thead>\n",
       "  <tbody>\n",
       "    <tr>\n",
       "      <th>0</th>\n",
       "      <td>158023</td>\n",
       "      <td>31</td>\n",
       "      <td>72.0</td>\n",
       "      <td>59.0</td>\n",
       "      <td>48.0</td>\n",
       "      <td>22.0</td>\n",
       "      <td>75.0</td>\n",
       "      <td>96.0</td>\n",
       "    </tr>\n",
       "    <tr>\n",
       "      <th>1</th>\n",
       "      <td>20801</td>\n",
       "      <td>33</td>\n",
       "      <td>88.0</td>\n",
       "      <td>79.0</td>\n",
       "      <td>63.0</td>\n",
       "      <td>29.0</td>\n",
       "      <td>85.0</td>\n",
       "      <td>95.0</td>\n",
       "    </tr>\n",
       "    <tr>\n",
       "      <th>2</th>\n",
       "      <td>190871</td>\n",
       "      <td>26</td>\n",
       "      <td>81.0</td>\n",
       "      <td>49.0</td>\n",
       "      <td>56.0</td>\n",
       "      <td>36.0</td>\n",
       "      <td>81.0</td>\n",
       "      <td>94.0</td>\n",
       "    </tr>\n",
       "    <tr>\n",
       "      <th>3</th>\n",
       "      <td>193080</td>\n",
       "      <td>27</td>\n",
       "      <td>43.0</td>\n",
       "      <td>64.0</td>\n",
       "      <td>38.0</td>\n",
       "      <td>30.0</td>\n",
       "      <td>40.0</td>\n",
       "      <td>68.0</td>\n",
       "    </tr>\n",
       "    <tr>\n",
       "      <th>4</th>\n",
       "      <td>192985</td>\n",
       "      <td>27</td>\n",
       "      <td>90.0</td>\n",
       "      <td>75.0</td>\n",
       "      <td>76.0</td>\n",
       "      <td>61.0</td>\n",
       "      <td>79.0</td>\n",
       "      <td>88.0</td>\n",
       "    </tr>\n",
       "  </tbody>\n",
       "</table>\n",
       "</div>"
      ],
      "text/plain": [
       "       ID  Age  Stamina  Strength  Aggression  Interceptions  Penalties  \\\n",
       "0  158023   31     72.0      59.0        48.0           22.0       75.0   \n",
       "1   20801   33     88.0      79.0        63.0           29.0       85.0   \n",
       "2  190871   26     81.0      49.0        56.0           36.0       81.0   \n",
       "3  193080   27     43.0      64.0        38.0           30.0       40.0   \n",
       "4  192985   27     90.0      75.0        76.0           61.0       79.0   \n",
       "\n",
       "   Composure  \n",
       "0       96.0  \n",
       "1       95.0  \n",
       "2       94.0  \n",
       "3       68.0  \n",
       "4       88.0  "
      ]
     },
     "execution_count": 5,
     "metadata": {},
     "output_type": "execute_result"
    }
   ],
   "source": [
    "# Your Code Here.\n",
    "data = pd.read_csv('./data/q4.csv')\n",
    "data.dropna(axis=0,how='any')\n",
    "data.drop_duplicates(subset=None, keep='first', inplace=True)\n",
    "\n",
    "def separate(row):\n",
    "    if row['pts']<=200:\n",
    "        return 'Lowscoringplayers'\n",
    "    elif row['pts']<=800:\n",
    "        return 'Midscoringplayers'\n",
    "    else:\n",
    "        return 'highscoringplayers'\n",
    "player_data['classification_player_data']=player_data.apply(separate,axis=1)\n",
    "\n",
    "\n",
    "data.head()"
   ]
  },
  {
   "cell_type": "markdown",
   "metadata": {},
   "source": [
    "#### Q4.1.2: Stick Together\n",
    "Now get to work on creating your grouping. Include a visualisation of your groupings as well, so Ben can easily see how these players' stats differ on a graph.\n",
    "\n",
    "**Note:** To ensure your analysis is consistent during marking, you should set a random seed before grouping.\n",
    "<span style= 'float: right;'><b>[5 marks]</b></span>"
   ]
  },
  {
   "cell_type": "code",
   "execution_count": 6,
   "metadata": {},
   "outputs": [
    {
     "data": {
      "text/plain": [
       "[<matplotlib.lines.Line2D at 0x253b4e09688>]"
      ]
     },
     "execution_count": 6,
     "metadata": {},
     "output_type": "execute_result"
    },
    {
     "data": {
      "image/png": "[encoded data removed]",
      "text/plain": [
       "<Figure size 720x576 with 1 Axes>"
      ]
     },
     "metadata": {
      "needs_background": "light"
     },
     "output_type": "display_data"
    }
   ],
   "source": [
    "# Your Code Here\n",
    "loss = []\n",
    "\n",
    "for i in range(2,10):\n",
    "    dataSet = data[['Age','Stamina','Strength','Aggression','Interceptions','Penalties','Composure']].copy()\n",
    "    # PCA\n",
    "    pca = PCA(n_components=2)\n",
    "    dataSet = pca.fit_transform(dataSet)\n",
    "    \n",
    "    kmeans = KMeans(n_clusters=i, random_state=0 ,max_iter =50).fit(dataSet)\n",
    "    center = kmeans.cluster_centers_\n",
    "    labels = kmeans.labels_\n",
    "    loss.append(kmeans.inertia_)\n",
    "plt.figure(figsize=(10,8))\n",
    "plt.title('loss vs clusters')\n",
    "plt.xlabel('number of clusters')\n",
    "plt.ylabel('loss')\n",
    "plt.plot([i for i in range(2,10)],loss)"
   ]
  },
  {
   "cell_type": "code",
   "execution_count": 7,
   "metadata": {},
   "outputs": [
    {
     "data": {
      "image/png": "[encoded data removed]",
      "text/plain": [
       "<Figure size 720x576 with 1 Axes>"
      ]
     },
     "metadata": {
      "needs_background": "light"
     },
     "output_type": "display_data"
    }
   ],
   "source": [
    "dataSet = data[['Age','Stamina','Strength','Aggression','Interceptions','Penalties','Composure']].copy()\n",
    "pca = PCA(n_components=3)\n",
    "dataSet = pca.fit_transform(dataSet)\n",
    "kmeans = KMeans(n_clusters=3, random_state=0 ,max_iter =50).fit(dataSet)\n",
    "center = kmeans.cluster_centers_\n",
    "labels = kmeans.labels_\n",
    "# labels\n",
    "\n",
    "\n",
    "from mpl_toolkits.mplot3d import Axes3D\n",
    "fig = plt.figure(figsize=(10,8))\n",
    "ax = Axes3D(fig)\n",
    "ax.scatter(dataSet[:,0], dataSet[:,1],  dataSet[:,2], c=labels)\n",
    "\n",
    "# accuracy_score(y_true, y_pred) # Show accuracy\n",
    "# f1_score(y_true, y_pred, average='macro') # f1\n",
    "plt.show()"
   ]
  },
  {
   "cell_type": "markdown",
   "metadata": {},
   "source": [
    "#### Q4.1.3: Presentation Prep\n",
    "\n",
    "Before you present your groupings to Ben, you should justify your findings.\n",
    "- First, print relevant statistics on each grouping and ensure that the output is easy to read and compare - you may find it useful to use a visualisation, but this isn't necessary for full marks.\n",
    "- Second, for each group, give a brief description (~30 words or less each) on what differentiates it from the rest of the groups.\n",
    "- Finally, give a brief justification as to why you settled on this grouping. If you excluded any data, explain why.\n",
    "<span style= 'float: right;'><b>[9 marks]</b></span>"
   ]
  },
  {
   "cell_type": "code",
   "execution_count": 11,
   "metadata": {},
   "outputs": [
    {
     "name": "stdout",
     "output_type": "stream",
     "text": [
      "<class 'numpy.ndarray'>\n",
      "ID               197693.426997\n",
      "Age                  26.873278\n",
      "Stamina              72.017906\n",
      "Strength             66.059229\n",
      "Aggression           60.201102\n",
      "Interceptions        37.851240\n",
      "Penalties            70.084022\n",
      "Composure            75.201102\n",
      "dtype: float64\n",
      "ID               198094.848007\n",
      "Age                  27.095459\n",
      "Stamina              76.480074\n",
      "Strength             74.024096\n",
      "Aggression           76.256719\n",
      "Interceptions        75.730306\n",
      "Penalties            55.237257\n",
      "Composure            73.784059\n",
      "dtype: float64\n",
      "ID               182295.225641\n",
      "Age                  29.317949\n",
      "Stamina              35.292308\n",
      "Strength             67.564103\n",
      "Aggression           30.430769\n",
      "Interceptions        20.487179\n",
      "Penalties            22.353846\n",
      "Composure            57.702564\n",
      "dtype: float64\n"
     ]
    }
   ],
   "source": [
    "# Your Code Here\n",
    "for i in range(3):\n",
    "    print(data[labels==i].mean())"
   ]
  },
  {
   "cell_type": "raw",
   "metadata": {},
   "source": [
    "# Your answer here"
   ]
  },
  {
   "cell_type": "markdown",
   "metadata": {},
   "source": [
    "#### Q4.1.4: Not so Close!\n",
    "\n",
    "Finally, based on your visualisation, statistical output and descriptions, find the two groupings that look most alike - if there are many that are similar, choose any of these pairs.\n",
    "\n",
    "To justify to Ben that this pair of groups should be separate and that they shouldn't be combined into one group, show that these groups have a statistically significant difference between them in one of the player attributes.\n",
    "\n",
    "**Side Note:** A hypothesis test on one attribute doesn't indicate that the clusters as a whole should be separate, but Ben is happy to use this as justification.\n",
    "<span style= 'float: right;'><b>[5 marks]</b></span>"
   ]
  },
  {
   "cell_type": "code",
   "execution_count": 15,
   "metadata": {},
   "outputs": [
    {
     "name": "stdout",
     "output_type": "stream",
     "text": [
      "o_codec: Ttest_indResult(statistic=20.238645653720454, pvalue=5.742070560921788e-28)\n"
     ]
    }
   ],
   "source": [
    "# Your Code Here\n",
    "from scipy import stats\n",
    "N = 20\n",
    "Stamina1 = np.random.choice(data[labels==0]['Stamina'],N)\n",
    "Stamina2 = np.random.choice(data[labels==2]['Stamina'],N)\n",
    "vara = stats.ttest_ind(Stamina1,Stamina2)\n",
    "\n",
    "print('o_codec:',vara)"
   ]
  },
  {
   "cell_type": "markdown",
   "metadata": {},
   "source": [
    "# Your answer here\n",
    "# t test\n",
    "## H_0: Suppose that the cluster 0 and cluster 2 should be the same, the difference above are because of sampling deviation.\n",
    "\n",
    "## H_1: \n",
    "\n",
    "## p_value < 0.05 so H_0 refused."
   ]
  },
  {
   "cell_type": "markdown",
   "metadata": {},
   "source": [
    "### Q4.2: Troublesome Theory"
   ]
  },
  {
   "cell_type": "markdown",
   "metadata": {},
   "source": [
    "#### Q4.2.1: Tumultuous Testing\n",
    "Consider the following scenario:\n",
    "> Alex is currently using a Machine Learning model to predict whether a student will pass or fail, based on their lab attendance. However, depending on how his data is split when he uses `train_test_split`, the accuracy of the model is varied highly.\n",
    "\n",
    "What is the problem here and how could he account for this? Provide an example of a tool or procedure he could use to solve this issue and ensure the accuracy is representative of the dataset.\n",
    "<span style= 'float: right;'><b>[5 marks]</b></span>"
   ]
  },
  {
   "cell_type": "raw",
   "metadata": {},
   "source": [
    "# Your answer here\n",
    "dataset is too small and random status is not set, which means each training use different data. will lead a varied accuracy."
   ]
  },
  {
   "cell_type": "markdown",
   "metadata": {},
   "source": [
    "#### Q4.2.2: Silly Scoring\n",
    "Consider the following scenario:\n",
    "> Ben is currently working for Blume, using items such as Name, Date of Birth, employment, and income to predict how likely someone is to ask for a payrise.\n",
    "\n",
    "Disregarding the potential ethical issues with this, should Ben be using a classification or regression model? What would be the impact of using the incorrect model?\n",
    "<span style= 'float: right;'><b>[5 marks]</b></span>"
   ]
  },
  {
   "cell_type": "raw",
   "metadata": {},
   "source": [
    "# Your answer here\n",
    "bad performance."
   ]
  },
  {
   "cell_type": "markdown",
   "metadata": {},
   "source": [
    "****\n",
    "## Q5 - Ethics _[10 Marks]_\n",
    "The following questions will cover topics of ethics covered in the lectures\n",
    "and labs. Please provide your written answers in the raw text boxes provided.\n",
    "_Any_ external information you use **must be referenced**. Provide references\n",
    "in the raw textbox and statement of originality."
   ]
  },
  {
   "cell_type": "markdown",
   "metadata": {},
   "source": [
    "### Q5.1: Ethical Issues\n",
    "Discuss two **Economical** ethical issues (as defined in the lectures)\n",
    "that may arise from the use of Data Analytics, and what impact this may have\n",
    "on workers, or the wider community. Provide an example and outline the impact\n",
    "this example could have.\n",
    "<span style= 'float: right;'><b>[5 marks]</b></span>"
   ]
  },
  {
   "cell_type": "raw",
   "metadata": {},
   "source": [
    "# Your answer here\n",
    "分析工作时间效率\n",
    "分析员工independence"
   ]
  },
  {
   "cell_type": "markdown",
   "metadata": {},
   "source": [
    "### Q5.2: The Value of Data\n",
    "Discuss two of ways the value of **Confidentiality** can be harmed by\n",
    "Data Analytics. Provide an example of each.\n",
    "<span style= 'float: right;'><b>[5 marks]</b></span>"
   ]
  },
  {
   "cell_type": "raw",
   "metadata": {},
   "source": [
    "# Your answer here\n"
   ]
  },
  {
   "cell_type": "markdown",
   "metadata": {},
   "source": [
    "****\n",
    "Congratulations, you have made it to the end. Don't forget to save, fill out your statement of originality, commit & finally push your work to your repo."
   ]
  }
 ],
 "metadata": {
  "kernelspec": {
   "display_name": "pytorch",
   "language": "python",
   "name": "pytorch"
  },
  "language_info": {
   "codemirror_mode": {
    "name": "ipython",
    "version": 3
   },
   "file_extension": ".py",
   "mimetype": "text/x-python",
   "name": "python",
   "nbconvert_exporter": "python",
   "pygments_lexer": "ipython3",
   "version": "3.7.10"
  }
 },
 "nbformat": 4,
 "nbformat_minor": 4
}
