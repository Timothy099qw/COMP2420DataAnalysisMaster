{
 "cells": [
  {
   "cell_type": "markdown",
   "metadata": {},
   "source": [
    "<h1 align='center'> COMP2420/COMP6420 - Introduction to Data Management, <br/>Analysis and Security</h1>\n",
    "\n",
    "<h1 align='center'>Lab 12 - Revision</h1>\n",
    "\n",
    "\n",
    "*****\n"
   ]
  },
  {
   "cell_type": "markdown",
   "metadata": {},
   "source": [
    "## Aim\n",
    "\n",
    "Our aim in this lab is the following:\n",
    "- Revise the semester's worth of content and become familiar with content that may be available on the exam"
   ]
  },
  {
   "cell_type": "markdown",
   "metadata": {},
   "source": [
    "## Learning Outcomes\n",
    "- L01: Demonstrate a conceptual understanding of database systems and architecture, data models and declarative query languages\n",
    "- L02: Define, query and manipulate a relational database\n",
    "- L03: Demonstrate basic knowledge and understanding of descriptive and predictive data analysis methods, optimization and search, and knowledge representation.\n",
    "- L04: Formulate and extract descriptive and predictive statistics from data\n",
    "- L05: Analyse and interpret results from descriptive and predictive data analysis\n",
    "- L06: Apply their knowledge to a given problem domain\n",
    "- L07: Identify potential pitfalls, and social and ethical implications of data science\n",
    "- L08: Explain key security concepts and the use of cryptographic techniques, digital signatures and PKI in security"
   ]
  },
  {
   "cell_type": "markdown",
   "metadata": {},
   "source": [
    "## Preparation\n",
    "\n",
    "\n",
    "Before starting this lab, we suggest you do the following:\n",
    "- Watch all previous lectures for this semester.\n",
    "- Complete all previous labs for this semester, including extensions tasks."
   ]
  },
  {
   "cell_type": "markdown",
   "metadata": {},
   "source": [
    "## Introduction:\n",
    "Congratulations, you have made it to the end of labs for COMP2420. This final lab is a revision lab for you to complete in your own time, modeled after the final exam from 2019 (the questions are different, don't worry). You should use this to study up for the exam and ask your tutor questions while you have the opportunity to, for this lab and any outstanding queries from the previous weeks. "
   ]
  },
  {
   "cell_type": "code",
   "execution_count": null,
   "metadata": {},
   "outputs": [],
   "source": [
    "# Important Imports for the question/s\n",
    "import pandas as pd\n",
    "import numpy as np\n",
    "import seaborn as sns\n",
    "import matplotlib.pyplot as plt\n",
    "from sklearn.model_selection import train_test_split\n",
    "from sklearn.neighbors import KNeighborsClassifier\n",
    "from sklearn.tree import DecisionTreeClassifier\n",
    "from sklearn.linear_model import LinearRegression\n",
    "from sklearn.cluster import KMeans, MeanShift\n",
    "import sklearn.metrics as skm\n",
    "plt.style.use('seaborn-notebook')\n",
    "## inline figures\n",
    "%matplotlib inline\n",
    "\n",
    "import sqlite3\n",
    "from sqlite3 import Error\n",
    "\n",
    "# Getting rid of warnings\n",
    "import warnings\n",
    "warnings.filterwarnings(\"ignore\")"
   ]
  },
  {
   "cell_type": "code",
   "execution_count": null,
   "metadata": {},
   "outputs": [],
   "source": [
    "# Add imports as necessary. You are only allowed to use what is in the standard Anaconda installation in the exam.\n"
   ]
  },
  {
   "cell_type": "markdown",
   "metadata": {},
   "source": [
    "***"
   ]
  },
  {
   "cell_type": "markdown",
   "metadata": {},
   "source": [
    "## Question 1: Data Analysis"
   ]
  },
  {
   "cell_type": "markdown",
   "metadata": {},
   "source": [
    "### Q1.1 - Appropiate Graphs"
   ]
  },
  {
   "cell_type": "markdown",
   "metadata": {},
   "source": [
    "For each of the following scenarios, determine which plot type is most appropriate to reveal the distribution of and/or the relationships between the variable(s) referred to in each sub question. \n",
    "\n",
    "Select (with justification) only one plot type from the ones listed below. \n",
    "\n",
    "* histogram  \n",
    "* pie chart  \n",
    "* bar plot  \n",
    "* line plot  \n",
    "* side-by-side boxplots  \n",
    "* scatter plot  \n",
    "* stacked bar plot   "
   ]
  },
  {
   "cell_type": "markdown",
   "metadata": {},
   "source": [
    "1. Sale price and number of bedrooms (assume integer) for houses sold in Canberra in 2010. "
   ]
  },
  {
   "cell_type": "raw",
   "metadata": {},
   "source": [
    "Answer here"
   ]
  },
  {
   "cell_type": "markdown",
   "metadata": {},
   "source": [
    "2. Sale price and date of sale for houses sold in Canberra between 2000 and 2017."
   ]
  },
  {
   "cell_type": "raw",
   "metadata": {},
   "source": [
    "Answer here"
   ]
  },
  {
   "cell_type": "markdown",
   "metadata": {},
   "source": [
    "3. Time taken by ANU employees in minutes to reach university for year 2017."
   ]
  },
  {
   "cell_type": "raw",
   "metadata": {},
   "source": [
    "Answer here"
   ]
  },
  {
   "cell_type": "markdown",
   "metadata": {},
   "source": [
    "4. Country of nationality for students admitted to ANU in 2016, assuming you can combine countries with less than 100 students together."
   ]
  },
  {
   "cell_type": "raw",
   "metadata": {},
   "source": [
    "Answer here"
   ]
  },
  {
   "cell_type": "markdown",
   "metadata": {},
   "source": [
    "5. The percentage of female students admitted to ANU each year from 1950 to 2017."
   ]
  },
  {
   "cell_type": "raw",
   "metadata": {},
   "source": [
    "Answer here"
   ]
  },
  {
   "cell_type": "markdown",
   "metadata": {},
   "source": [
    "### Q1.2 - Visualisations"
   ]
  },
  {
   "cell_type": "markdown",
   "metadata": {},
   "source": [
    "The data set `./data/Economist_pensions.csv` is a collection of the percentage of GDP that various OECD countries spent on pension benefits, and the proportion of their population aged 65 and over, also as a percentage. Countries have different set ages for when their people become entitled to claim pension benefits. The proportion of GDP figures represent the GDP expenditure on all pension claims that is allowed by their pension law.\n",
    "\n",
    "Using the dataset, perform the following tasks:"
   ]
  },
  {
   "cell_type": "markdown",
   "metadata": {},
   "source": [
    "1. Load the DataFrame. Provide the mean and mode of the government spending on pension benefits as a percentage of the countries GDP."
   ]
  },
  {
   "cell_type": "code",
   "execution_count": null,
   "metadata": {},
   "outputs": [],
   "source": [
    "# Your Code here"
   ]
  },
  {
   "cell_type": "markdown",
   "metadata": {},
   "source": [
    "2. Using a Scatter Plot, visualise the relationship between the percentage of a country's population over the age of 65 and the government spending on pension benefits as a percentage of the GDP.\n",
    "3. Building upon your previous graph, highlight the data points for the following countries and regenerate your graph below the original one. The countries are: Mexico, Turkey, Brazil, Poland, France, Italy, Greece, Japan, United States of America & South Korea.\n",
    "4. Which visual attribute (in the scatterplot function) from matplotlib is more appropriate for highlighting the previous countries: Colour or Alpha? Justify your answer using an appropriate example.\n",
    "5. Define the country with the highest ratio of pension benefits as a % of GDP to the % of 65+ fraction of population. Use a distinctive visual feature to highlight it, separately (but in addition to) the other previous highlighted countries."
   ]
  },
  {
   "cell_type": "code",
   "execution_count": null,
   "metadata": {},
   "outputs": [],
   "source": [
    "# Your Code here"
   ]
  },
  {
   "cell_type": "markdown",
   "metadata": {},
   "source": [
    "***"
   ]
  },
  {
   "cell_type": "markdown",
   "metadata": {},
   "source": [
    "## Question 2: Machine Learning"
   ]
  },
  {
   "cell_type": "markdown",
   "metadata": {},
   "source": [
    "### Q2.1 - Togepi's Theory Questions\n",
    "Answer the following theoretical questions regarding machine learning. Ideally, you should not need to do external research to answer them, but if you're stuck you can either refer to your tutor or look through lectures and/or online resources."
   ]
  },
  {
   "cell_type": "markdown",
   "metadata": {},
   "source": [
    "1. If your regression line perfectly fits all the points, what is the value of R<sup>2</sup> score? "
   ]
  },
  {
   "cell_type": "raw",
   "metadata": {},
   "source": [
    "Your Answer Here"
   ]
  },
  {
   "cell_type": "markdown",
   "metadata": {},
   "source": [
    "2.  If your regression equation looks like $\\hat{y}$ = &beta;<sub>0</sub> + &beta;<sub>1</sub>$x$ + &beta;<sub>2</sub>$x^2$ + &beta;<sub>3</sub>$x^3$, is this still a linear regression model? Explain your reasoning"
   ]
  },
  {
   "cell_type": "raw",
   "metadata": {},
   "source": [
    "Your Answer Here"
   ]
  },
  {
   "cell_type": "markdown",
   "metadata": {},
   "source": [
    "3. What does the statement “independent and identically distributed” (or i.i.d.) define in Machine Learning? Why is it important?"
   ]
  },
  {
   "cell_type": "raw",
   "metadata": {},
   "source": [
    "Your Answer Here"
   ]
  },
  {
   "cell_type": "markdown",
   "metadata": {},
   "source": [
    "4. Explain the difference between **Flat** and **Hierarchical** clustering"
   ]
  },
  {
   "cell_type": "raw",
   "metadata": {},
   "source": [
    "Your Answer Here"
   ]
  },
  {
   "cell_type": "markdown",
   "metadata": {},
   "source": [
    "5. What is a loss function? Give an example of a loss function and how it is used in a Machine Learning Algorithm"
   ]
  },
  {
   "cell_type": "raw",
   "metadata": {},
   "source": [
    "Your Answer Here"
   ]
  },
  {
   "cell_type": "markdown",
   "metadata": {},
   "source": [
    "6. How does the Minimum Sum of Squares (also known as Least Squares or Ordinary Least Squares) optimise a Linear Regression line of fit? Does it require multiple passes on the data or is it a single calculation? Provide a technical explanation of how it works."
   ]
  },
  {
   "cell_type": "raw",
   "metadata": {},
   "source": [
    "Your Answer Here"
   ]
  },
  {
   "cell_type": "markdown",
   "metadata": {},
   "source": [
    "### Q2.2 - Cubone's Classifications "
   ]
  },
  {
   "cell_type": "code",
   "execution_count": null,
   "metadata": {},
   "outputs": [],
   "source": [
    "poke_data = pd.read_csv(\"./data/pokemon.csv\", index_col=0)\n",
    "poke_data.head()"
   ]
  },
  {
   "cell_type": "markdown",
   "metadata": {},
   "source": [
    "Using the Pokemon dataset, you will be implementing the Decision Tree and KNN classifers using `sklearn` to predict the `Legendary` status of a pokemon. Perform the following tasks:"
   ]
  },
  {
   "cell_type": "markdown",
   "metadata": {},
   "source": [
    "1. Complete the following function such that it will return the best combination of 2 columns to use to predict the Legendary status of a pokemon for a KNN classifier when `n_neighbours = 10` . You should check every pair of numerical columns and return the best pair (with the names as a list) based on accuracy.\n",
    "\n",
    "Note: You should only use numerical columns."
   ]
  },
  {
   "cell_type": "code",
   "execution_count": null,
   "metadata": {},
   "outputs": [],
   "source": [
    "def pairChecker(data):\n",
    "    \"\"\"\n",
    "    Input/s: Dataframe of every column in the dataset\n",
    "    Expected Output/s: The names of the best performing pair of models based on accuracy of KNN classifier as a list.\n",
    "    \n",
    "    Expected steps: Determine the pairs of columns that can be used, for each pair implement a KNN classifier and\n",
    "                    check the accuracy score. Return the column names of the pair with the best accuracy score as a list.\n",
    "    \"\"\"\n",
    "\n",
    "    # Your Code Here\n",
    "    return"
   ]
  },
  {
   "cell_type": "code",
   "execution_count": null,
   "metadata": {},
   "outputs": [],
   "source": [
    "# Tester block\n",
    "print(\"Your best pair was: \", pairChecker(poke_data))\n",
    "if isinstance(pairChecker(poke_data), list):\n",
    "    print(\"Output is correct type\")\n",
    "else:\n",
    "    print(\"Output is not returned as a list of the column names\")"
   ]
  },
  {
   "cell_type": "markdown",
   "metadata": {},
   "source": [
    "2. Using the best pair you found above, implement a KNN classifier with 10 neighbours and a DecisionTreeClassifier and provide the prediction accuracy score and F1 score for each model."
   ]
  },
  {
   "cell_type": "code",
   "execution_count": null,
   "metadata": {},
   "outputs": [],
   "source": [
    "# Your Code Here"
   ]
  },
  {
   "cell_type": "markdown",
   "metadata": {},
   "source": [
    "3. What do the above metrics tell you about the performance of your models? Discuss how the metrics show that the models classify differently. Which would you rather use and why?"
   ]
  },
  {
   "cell_type": "raw",
   "metadata": {},
   "source": [
    "Your Answer Here"
   ]
  },
  {
   "cell_type": "markdown",
   "metadata": {},
   "source": [
    "### Q2.3 - Charmander's Clustering"
   ]
  },
  {
   "cell_type": "markdown",
   "metadata": {},
   "source": [
    "1. Using the Pokemon dataset, implement the `KMeans` clustering algorithm with `k=5` and `k=3` using `sklearn` or equivalent packages. Provide graphical representations of your clustering outputs and provide the accuracy score of your algorithms."
   ]
  },
  {
   "cell_type": "code",
   "execution_count": null,
   "metadata": {},
   "outputs": [],
   "source": [
    "# Your Code here"
   ]
  },
  {
   "cell_type": "markdown",
   "metadata": {},
   "source": [
    "2. Which k value is better for your clustering (or is neither appropriate)? Explain how different k values could be more (or less) appropriate."
   ]
  },
  {
   "cell_type": "raw",
   "metadata": {},
   "source": [
    "Your Answer Here"
   ]
  },
  {
   "cell_type": "markdown",
   "metadata": {},
   "source": [
    "3. Explain the limitations of KMeans and give examples of how and when it would be unsuitable."
   ]
  },
  {
   "cell_type": "raw",
   "metadata": {},
   "source": [
    "Your Answer Here"
   ]
  },
  {
   "cell_type": "markdown",
   "metadata": {},
   "source": [
    "***"
   ]
  },
  {
   "cell_type": "markdown",
   "metadata": {},
   "source": [
    "## Q3: Databases and Relational Algebra "
   ]
  },
  {
   "cell_type": "markdown",
   "metadata": {},
   "source": [
    "### Q3.1 Short Answers\n",
    "Answer the following theoretical questions regarding databases and relational algebra. Again, you should not need to do external research to answer them, but if you're stuck you can either refer to your tutor or look through lectures and/or online resources."
   ]
  },
  {
   "cell_type": "markdown",
   "metadata": {},
   "source": [
    "1. What is the difference between the flat file and hierarchical database models? Provide an example of each."
   ]
  },
  {
   "cell_type": "raw",
   "metadata": {},
   "source": [
    "Answer Here"
   ]
  },
  {
   "cell_type": "markdown",
   "metadata": {},
   "source": [
    "2. What are the typical layers in a 2-tier Architecture model? How can an Architecture be extended to n-layers?"
   ]
  },
  {
   "cell_type": "raw",
   "metadata": {},
   "source": [
    "Answer Here"
   ]
  },
  {
   "cell_type": "markdown",
   "metadata": {},
   "source": [
    "3. What is the difference between a Data-definition and Data-manipulation language?"
   ]
  },
  {
   "cell_type": "raw",
   "metadata": {},
   "source": [
    "Answer Here"
   ]
  },
  {
   "cell_type": "markdown",
   "metadata": {},
   "source": [
    "4. What are the features of a 2NF normalised database?"
   ]
  },
  {
   "cell_type": "raw",
   "metadata": {},
   "source": [
    "Answer Here"
   ]
  },
  {
   "cell_type": "markdown",
   "metadata": {},
   "source": [
    "5. What is the difference between a *well-formed* and a *valid* XML document? Why would you want to check if an XML document is *valid*?"
   ]
  },
  {
   "cell_type": "raw",
   "metadata": {},
   "source": [
    "Answer Here"
   ]
  },
  {
   "cell_type": "markdown",
   "metadata": {},
   "source": [
    "### 3.2 SQL\n",
    "\n",
    "The following SQL commands were used to create the tables in the \"Supplier-Parts-Jobs\" database (`spj.db`):"
   ]
  },
  {
   "cell_type": "raw",
   "metadata": {},
   "source": [
    "CREATE TABLE suppliers (\n",
    "    s_id   TEXT PRIMARY KEY,\n",
    "    name   TEXT NOT NULL,\n",
    "    status TEXT NOT NULL,\n",
    "    city   TEXT NOT NULL\n",
    ");\n",
    "\n",
    "CREATE TABLE parts (\n",
    "    p_id   TEXT    PRIMARY KEY,\n",
    "    name   TEXT    NOT NULL,\n",
    "    colour TEXT    NOT NULL,\n",
    "    weight INTEGER NOT NULL,\n",
    "    city   TEXT    NOT NULL\n",
    ");\n",
    "\n",
    "CREATE TABLE supplier_inventory (\n",
    "    s_id     TEXT,\n",
    "    p_id     TEXT,\n",
    "    quantity INTEGER NOT NULL,\n",
    "    PRIMARY KEY (s_id, p_id),\n",
    "    FOREIGN KEY (s_id) REFERENCES suppliers (s_id),\n",
    "    FOREIGN KEY (p_id) REFERENCES parts (p_id)\n",
    ");\n",
    "\n",
    "CREATE TABLE jobs (\n",
    "    j_id TEXT PRIMARY KEY,\n",
    "    name TEXT NOT NULL,\n",
    "    city TEXT NOT NULL\n",
    ");\n",
    "\n",
    "CREATE TABLE requests (\n",
    "    s_id TEXT,\n",
    "    p_id TEXT,\n",
    "    j_id TEXT,\n",
    "    quantity INTEGER NOT NULL,\n",
    "    PRIMARY KEY (s_id, p_id, j_id)\n",
    "    FOREIGN KEY (s_id) REFERENCES suppliers (s_id),\n",
    "    FOREIGN KEY (p_id) REFERENCES parts (p_id),\n",
    "    FOREIGN KEY (j_id) REFERENCES jobs (j_id)\n",
    ");"
   ]
  },
  {
   "cell_type": "markdown",
   "metadata": {},
   "source": [
    "You will need to do further exploration to understand the data. If you make any assumptions on what the data means, state these assumptions clearly.\n",
    "\n",
    "Please answer the following questions. Provide both the answer, and the SQL you used to achieve the answer."
   ]
  },
  {
   "cell_type": "code",
   "execution_count": null,
   "metadata": {},
   "outputs": [],
   "source": [
    "def create_connection(db_file):\n",
    "    \"\"\" Connect to the specified SQLite database, if not exist, create a new one (in memory);\n",
    "    :db_file: location of db to connect to\n",
    "    :return: Connection object or None\n",
    "    \"\"\"\n",
    "    conn = None\n",
    "    try:\n",
    "        conn = sqlite3.connect(db_file)\n",
    "        print(\"Connection established!\")\n",
    "    except Error as e:\n",
    "        print(\"Error Connecting to Database\")\n",
    "        raise(e)\n",
    "    return conn\n",
    "\n",
    "dfloc_spj = \"./data/spj.db\"\n",
    "conn = create_connection(dfloc_spj) \n",
    "cur = conn.cursor()"
   ]
  },
  {
   "cell_type": "markdown",
   "metadata": {},
   "source": [
    "1. Find the names of all suppliers providing parts for the Console job."
   ]
  },
  {
   "cell_type": "code",
   "execution_count": null,
   "metadata": {},
   "outputs": [],
   "source": [
    "# Your Code here"
   ]
  },
  {
   "cell_type": "markdown",
   "metadata": {},
   "source": [
    "2. Which Part/s weigh the most?"
   ]
  },
  {
   "cell_type": "code",
   "execution_count": null,
   "metadata": {},
   "outputs": [],
   "source": [
    "# Your Code here"
   ]
  },
  {
   "cell_type": "markdown",
   "metadata": {},
   "source": [
    "3. Which part is most stocked by suppliers?"
   ]
  },
  {
   "cell_type": "code",
   "execution_count": null,
   "metadata": {},
   "outputs": [],
   "source": [
    "# Your Code here"
   ]
  },
  {
   "cell_type": "markdown",
   "metadata": {},
   "source": [
    "4.  Find the s_id and names of suppliers supplying parts to jobs where the city of the supplier, the part, and the job are all different to each other."
   ]
  },
  {
   "cell_type": "code",
   "execution_count": null,
   "metadata": {},
   "outputs": [],
   "source": [
    "# Your Code here"
   ]
  },
  {
   "cell_type": "markdown",
   "metadata": {},
   "source": [
    "5. Find all (suppliers, parts) where the supplier doesn't have enough parts to fill their requests."
   ]
  },
  {
   "cell_type": "code",
   "execution_count": null,
   "metadata": {},
   "outputs": [],
   "source": [
    "# Your Code here"
   ]
  },
  {
   "cell_type": "markdown",
   "metadata": {},
   "source": [
    "***"
   ]
  },
  {
   "cell_type": "markdown",
   "metadata": {},
   "source": [
    "## Q4: Security\n",
    "Answer the following questions regarding security. You should not need to do external research to answer them, but if you're stuck you can either refer to your tutor or look through lectures and/or online resources."
   ]
  },
  {
   "cell_type": "markdown",
   "metadata": {},
   "source": [
    "### 4.1: Security Multiple Choice"
   ]
  },
  {
   "cell_type": "markdown",
   "metadata": {},
   "source": [
    "1. A *fabrication* attack is an attack on:\n",
    "\n",
    "    1. Availability\n",
    "    2. Confidentiality\n",
    "    3. Authenticity\n",
    "    4. Integrity"
   ]
  },
  {
   "cell_type": "raw",
   "metadata": {},
   "source": [
    "Answer Here"
   ]
  },
  {
   "cell_type": "markdown",
   "metadata": {},
   "source": [
    "2. An RSA public key is given by (e,n) = (3,33). Suppose we want to encrypt the number 7 using this key. Then, the encrypted number is:\n",
    "\n",
    "    1. 7\n",
    "    2. 21\n",
    "    3. 13\n",
    "    4. 23"
   ]
  },
  {
   "cell_type": "raw",
   "metadata": {},
   "source": [
    "Answer Here"
   ]
  },
  {
   "cell_type": "markdown",
   "metadata": {},
   "source": [
    "3. Which technology is considered to be able to break current public-key encryption algorithms in the future? Select the most appropriate answer.\n",
    "\n",
    "    1. Probabilistic Computation\n",
    "    2. Neuron Networks\n",
    "    3. Quantum Computing\n",
    "    4. AI"
   ]
  },
  {
   "cell_type": "raw",
   "metadata": {},
   "source": [
    "Answer Here"
   ]
  },
  {
   "cell_type": "markdown",
   "metadata": {},
   "source": [
    "4. Which of the following encryption algorithms is considered unbreakable? Select one or more.\n",
    "\n",
    "   - RSA\n",
    "   - El-Gamal\n",
    "   - One-Time Pad\n",
    "   - DES\n",
    "   - AES"
   ]
  },
  {
   "cell_type": "raw",
   "metadata": {},
   "source": [
    "Answer Here"
   ]
  },
  {
   "cell_type": "markdown",
   "metadata": {},
   "source": [
    "5. In creating a digital signature, the sender encrypts the document with (select one):\n",
    "\n",
    "    - The sender's public key\n",
    "    - The receiver's public key\n",
    "    - The sender's private key\n",
    "    - The receiver's private key\n",
    "    "
   ]
  },
  {
   "cell_type": "raw",
   "metadata": {},
   "source": [
    "Answer Here"
   ]
  },
  {
   "cell_type": "markdown",
   "metadata": {},
   "source": [
    "### 4.2: Security Short Answers"
   ]
  },
  {
   "cell_type": "markdown",
   "metadata": {},
   "source": [
    "1. A good hash function needs to be *collision resistant*. What does this mean? Why is this  important?"
   ]
  },
  {
   "cell_type": "raw",
   "metadata": {},
   "source": [
    "Answer Here"
   ]
  },
  {
   "cell_type": "markdown",
   "metadata": {},
   "source": [
    "2. What are the three key principles of the information security triad? Briefly describe each one of these three principles."
   ]
  },
  {
   "cell_type": "raw",
   "metadata": {},
   "source": [
    "Answer Here"
   ]
  },
  {
   "cell_type": "markdown",
   "metadata": {},
   "source": [
    "3. Bob wants to send a signed, confidential message to Alice. Discuss how he could go about doing this using cryptographic techniques. What are the pros and cons of your suggested approach?"
   ]
  },
  {
   "cell_type": "raw",
   "metadata": {},
   "source": [
    "Answer Here"
   ]
  },
  {
   "cell_type": "markdown",
   "metadata": {},
   "source": [
    "****\n",
    "## Q5: Ethics\n",
    "Answer the following questions on ethics. You may need to refer to the lectures or external resources for the first question, but you should not do research for the second question. Feel free to speak to your tutor to discuss your responses."
   ]
  },
  {
   "cell_type": "markdown",
   "metadata": {},
   "source": [
    "1. Describe a `PET` and how they can be used to mitigate a number of ethical risks that have been brought up over the course of the semester."
   ]
  },
  {
   "cell_type": "raw",
   "metadata": {},
   "source": [
    "Answer Here"
   ]
  },
  {
   "cell_type": "markdown",
   "metadata": {},
   "source": [
    "2. Discuss why it is important to consider ethical implications when creating a machine learning model to predict the amount of credit someone can receive on a credit card."
   ]
  },
  {
   "cell_type": "raw",
   "metadata": {},
   "source": [
    "Answer Here"
   ]
  },
  {
   "cell_type": "markdown",
   "metadata": {},
   "source": [
    "****\n",
    "If you're unsure about any of your answers - for this lab or any previous labs - discuss with your tutor. Otherwise, congratulations on completing all the labs for COMP2420! "
   ]
  }
 ],
 "metadata": {
  "kernelspec": {
   "display_name": "Python 3",
   "language": "python",
   "name": "python3"
  },
  "language_info": {
   "codemirror_mode": {
    "name": "ipython",
    "version": 3
   },
   "file_extension": ".py",
   "mimetype": "text/x-python",
   "name": "python",
   "nbconvert_exporter": "python",
   "pygments_lexer": "ipython3",
   "version": "3.7.4"
  }
 },
 "nbformat": 4,
 "nbformat_minor": 4
}
